{
 "cells": [
  {
   "cell_type": "code",
   "execution_count": 1,
   "metadata": {},
   "outputs": [
    {
     "data": {
      "text/plain": [
       "['/gpfs/workdir/liashuhamy/clr',\n",
       " '/gpfs/users/liashuhamy/.conda/envs/pcamenv/lib/python37.zip',\n",
       " '/gpfs/users/liashuhamy/.conda/envs/pcamenv/lib/python3.7',\n",
       " '/gpfs/users/liashuhamy/.conda/envs/pcamenv/lib/python3.7/lib-dynload',\n",
       " '',\n",
       " '/gpfs/users/liashuhamy/.local/lib/python3.7/site-packages',\n",
       " '/gpfs/users/liashuhamy/.conda/envs/pcamenv/lib/python3.7/site-packages',\n",
       " '/gpfs/users/liashuhamy/.conda/envs/pcamenv/lib/python3.7/site-packages/locket-0.2.1-py3.7.egg',\n",
       " '/gpfs/users/liashuhamy/.conda/envs/pcamenv/lib/python3.7/site-packages/IPython/extensions',\n",
       " '/gpfs/users/liashuhamy/.ipython']"
      ]
     },
     "execution_count": 1,
     "metadata": {},
     "output_type": "execute_result"
    }
   ],
   "source": [
    "import os\n",
    "os.sys.path"
   ]
  },
  {
   "cell_type": "code",
   "execution_count": 2,
   "metadata": {},
   "outputs": [],
   "source": [
    "os.sys.path.append('/gpfs/users/liashuhamy/.conda/envs/pcamenv/lib/python3.7/site-packages')"
   ]
  },
  {
   "cell_type": "code",
   "execution_count": 3,
   "metadata": {},
   "outputs": [],
   "source": [
    "import numpy as np\n",
    "import cv2"
   ]
  },
  {
   "cell_type": "code",
   "execution_count": 4,
   "metadata": {},
   "outputs": [
    {
     "name": "stdout",
     "output_type": "stream",
     "text": [
      "2.3.2\n"
     ]
    }
   ],
   "source": [
    "\n",
    "import tensorflow as tf\n",
    "print(tf.__version__)"
   ]
  },
  {
   "cell_type": "code",
   "execution_count": 5,
   "metadata": {},
   "outputs": [
    {
     "name": "stdout",
     "output_type": "stream",
     "text": [
      "Mon Jul  5 13:07:58 2021       \n",
      "+-----------------------------------------------------------------------------+\n",
      "| NVIDIA-SMI 440.33.01    Driver Version: 440.33.01    CUDA Version: 10.2     |\n",
      "|-------------------------------+----------------------+----------------------+\n",
      "| GPU  Name        Persistence-M| Bus-Id        Disp.A | Volatile Uncorr. ECC |\n",
      "| Fan  Temp  Perf  Pwr:Usage/Cap|         Memory-Usage | GPU-Util  Compute M. |\n",
      "|===============================+======================+======================|\n",
      "|   0  Tesla V100-PCIE...  On   | 00000000:D8:00.0 Off |                    0 |\n",
      "| N/A   35C    P0    24W / 250W |      0MiB / 32510MiB |      0%      Default |\n",
      "+-------------------------------+----------------------+----------------------+\n",
      "                                                                               \n",
      "+-----------------------------------------------------------------------------+\n",
      "| Processes:                                                       GPU Memory |\n",
      "|  GPU       PID   Type   Process name                             Usage      |\n",
      "|=============================================================================|\n",
      "|  No running processes found                                                 |\n",
      "+-----------------------------------------------------------------------------+\n"
     ]
    }
   ],
   "source": [
    "!nvidia-smi"
   ]
  },
  {
   "cell_type": "code",
   "execution_count": 6,
   "metadata": {},
   "outputs": [],
   "source": [
    "from sklearn.preprocessing import LabelEncoder\n",
    "from sklearn.manifold import TSNE\n",
    "from tensorflow.keras.layers import *\n",
    "from tensorflow.keras.models import *\n",
    "import matplotlib.pyplot as plt\n",
    "# from imutils import paths\n",
    "from tqdm import tqdm\n",
    "import tensorflow as tf\n",
    "# import seaborn as sns\n",
    "import numpy as np\n",
    "# import cv2\n",
    "\n",
    "# Random seed fixation\n",
    "tf.random.set_seed(666)\n",
    "np.random.seed(666)"
   ]
  },
  {
   "cell_type": "code",
   "execution_count": 60,
   "metadata": {},
   "outputs": [],
   "source": [
    "# import h5py\n",
    "\n",
    "# X_train = h5py.File('/gpfs/workdir/liashuhamy/camel/raw/pre_9_patient_split_vahadane/camelyonpatch_level_2_split_train_x.h5', 'r')['x'][:]\n",
    "# y_train = h5py.File('/gpfs/workdir/liashuhamy/camel/raw/pre_9_patient_split_vahadane/camelyonpatch_level_2_split_train_y.h5', 'r')['y'][:].reshape((-1,1))\n",
    "\n",
    "# X_test = h5py.File('/gpfs/workdir/liashuhamy/camel/raw/pre_9_patient_split_vahadane/camelyonpatch_level_2_split_valid_x.h5', 'r')['x'][:]\n",
    "# y_test = h5py.File('/gpfs/workdir/liashuhamy/camel/raw/pre_9_patient_split_vahadane/camelyonpatch_level_2_split_valid_y.h5', 'r')['y'][:].reshape((-1,1))"
   ]
  },
  {
   "cell_type": "code",
   "execution_count": 10,
   "metadata": {},
   "outputs": [],
   "source": [
    "# from PIL import Image\n",
    "# def resize(img, size):\n",
    "#     img = Image.fromarray(img)\n",
    "#     img = img.resize(size)\n",
    "#     return np.array(img)"
   ]
  },
  {
   "cell_type": "code",
   "execution_count": 11,
   "metadata": {},
   "outputs": [
    {
     "name": "stderr",
     "output_type": "stream",
     "text": [
      "100%|██████████| 95106/95106 [00:16<00:00, 5749.97it/s]\n",
      "100%|██████████| 30296/30296 [00:04<00:00, 7240.22it/s]\n"
     ]
    },
    {
     "data": {
      "text/plain": [
       "((95106, 224, 224, 3), (30296, 224, 224, 3))"
      ]
     },
     "execution_count": 11,
     "metadata": {},
     "output_type": "execute_result"
    }
   ],
   "source": [
    "# import cv2\n",
    "# import numpy as np\n",
    "# new_x = []\n",
    "# from tqdm import tqdm\n",
    "# for i in tqdm(range(X_train.shape[0])):\n",
    "#     new_x.append(cv2.resize(X_train[i], (224, 224)))\n",
    "# X_train = np.array(new_x)\n",
    "\n",
    "# new_x = []\n",
    "# from tqdm import tqdm\n",
    "# for i in tqdm(range(X_test.shape[0])):\n",
    "#     new_x.append(cv2.resize(X_test[i], (224, 224)))\n",
    "# X_test = np.array(new_x)\n",
    "\n",
    "# X_train.shape, X_test.shape"
   ]
  },
  {
   "cell_type": "code",
   "execution_count": 12,
   "metadata": {},
   "outputs": [],
   "source": [
    "# X_train = X_train / 255.\n",
    "# X_test = X_test / 255.\n"
   ]
  },
  {
   "cell_type": "code",
   "execution_count": null,
   "metadata": {},
   "outputs": [],
   "source": [
    "# _, preprocess_input = Classifiers.get('resnet18')"
   ]
  },
  {
   "cell_type": "code",
   "execution_count": 70,
   "metadata": {},
   "outputs": [
    {
     "data": {
      "text/plain": [
       "array([[241, 243, 244, 244, 242, 242, 244, 245, 245, 246],\n",
       "       [240, 242, 243, 242, 240, 241, 243, 246, 245, 246],\n",
       "       [240, 241, 243, 241, 240, 241, 245, 248, 246, 246],\n",
       "       [242, 242, 242, 241, 242, 244, 247, 249, 246, 246],\n",
       "       [242, 241, 240, 240, 243, 246, 248, 248, 246, 246],\n",
       "       [239, 238, 238, 240, 243, 246, 247, 246, 245, 246],\n",
       "       [233, 235, 238, 241, 243, 244, 245, 246, 245, 247],\n",
       "       [229, 234, 239, 242, 242, 242, 245, 246, 246, 248],\n",
       "       [236, 238, 242, 243, 244, 244, 245, 246, 245, 244],\n",
       "       [240, 242, 243, 245, 245, 245, 246, 247, 246, 246]], dtype=uint8)"
      ]
     },
     "execution_count": 70,
     "metadata": {},
     "output_type": "execute_result"
    }
   ],
   "source": [
    "# X_train[0][:10,:10, 0]"
   ]
  },
  {
   "cell_type": "code",
   "execution_count": 69,
   "metadata": {},
   "outputs": [
    {
     "data": {
      "text/plain": [
       "array([[241, 243, 244, 244, 242, 242, 244, 245, 245, 246],\n",
       "       [240, 242, 243, 242, 240, 241, 243, 246, 245, 246],\n",
       "       [240, 241, 243, 241, 240, 241, 245, 248, 246, 246],\n",
       "       [242, 242, 242, 241, 242, 244, 247, 249, 246, 246],\n",
       "       [242, 241, 240, 240, 243, 246, 248, 248, 246, 246],\n",
       "       [239, 238, 238, 240, 243, 246, 247, 246, 245, 246],\n",
       "       [233, 235, 238, 241, 243, 244, 245, 246, 245, 247],\n",
       "       [229, 234, 239, 242, 242, 242, 245, 246, 246, 248],\n",
       "       [236, 238, 242, 243, 244, 244, 245, 246, 245, 244],\n",
       "       [240, 242, 243, 245, 245, 245, 246, 247, 246, 246]], dtype=uint8)"
      ]
     },
     "execution_count": 69,
     "metadata": {},
     "output_type": "execute_result"
    }
   ],
   "source": [
    "# preprocess_input(X_train[0])[:10,:10, 0]"
   ]
  },
  {
   "cell_type": "markdown",
   "metadata": {},
   "source": [
    "Data load is here"
   ]
  },
  {
   "cell_type": "code",
   "execution_count": 72,
   "metadata": {},
   "outputs": [],
   "source": [
    "import h5py\n",
    "\n",
    "import tensorflow_io as tfio\n",
    "X_train = tfio.IODataset.from_hdf5('/gpfs/workdir/liashuhamy/camel/raw/pre_9_patient_split_vahadane/camelyonpatch_level_2_split_train_x.h5', dataset='/x')\n",
    "y_train = h5py.File('/gpfs/workdir/liashuhamy/camel/raw/pre_9_patient_split_vahadane/camelyonpatch_level_2_split_train_y.h5', 'r')['y'][:].reshape((-1,1))\n",
    "X_test = tfio.IODataset.from_hdf5('/gpfs/workdir/liashuhamy/camel/raw/pre_9_patient_split_vahadane/camelyonpatch_level_2_split_valid_x.h5', dataset='/x')\n",
    "y_test = h5py.File('/gpfs/workdir/liashuhamy/camel/raw/pre_9_patient_split_vahadane/camelyonpatch_level_2_split_valid_y.h5', 'r')['y'][:].reshape((-1,1))"
   ]
  },
  {
   "cell_type": "code",
   "execution_count": 73,
   "metadata": {},
   "outputs": [],
   "source": [
    "X_train = X_train.map(lambda x: tf.image.resize(x, [224,224]))\n",
    "X_train = X_train.map(lambda x: tf.cast(x,tf.float32)/255.)\n",
    "X_train = (\n",
    "    X_train\n",
    "    .batch(33)\n",
    "    .prefetch(tf.data.experimental.AUTOTUNE)\n",
    "    \n",
    ")"
   ]
  },
  {
   "cell_type": "code",
   "execution_count": 74,
   "metadata": {},
   "outputs": [],
   "source": [
    "X_test = X_test.map(lambda x: tf.image.resize(x, [224,224]))\n",
    "X_test = X_test.map(lambda x: tf.cast(x,tf.float32)/255.)\n",
    "X_test = (\n",
    "    X_test\n",
    "    .batch(28)\n",
    "    .prefetch(tf.data.experimental.AUTOTUNE)\n",
    "    \n",
    ")"
   ]
  },
  {
   "cell_type": "code",
   "execution_count": 75,
   "metadata": {},
   "outputs": [],
   "source": [
    "# from sklearn.model_selection import train_test_split\n",
    "# X_train, X_test, y_train, y_test = train_test_split(x, y, test_size=0.33, random_state=42)"
   ]
  },
  {
   "cell_type": "code",
   "execution_count": 76,
   "metadata": {},
   "outputs": [],
   "source": [
    "le = LabelEncoder()\n",
    "y_train_enc = le.fit_transform(y_train)\n",
    "y_test_enc = le.transform(y_test)"
   ]
  },
  {
   "cell_type": "code",
   "execution_count": 77,
   "metadata": {},
   "outputs": [],
   "source": [
    "y_train_enc = np.array([[1-i, i] for i in y_train]).reshape((-1,2))\n",
    "y_test_enc = np.array([[1-i, i] for i in y_test]).reshape((-1,2))"
   ]
  },
  {
   "cell_type": "code",
   "execution_count": 78,
   "metadata": {},
   "outputs": [
    {
     "data": {
      "text/plain": [
       "((95106, 2), (30296, 2))"
      ]
     },
     "execution_count": 78,
     "metadata": {},
     "output_type": "execute_result"
    }
   ],
   "source": [
    "y_train_enc.shape, y_test_enc.shape"
   ]
  },
  {
   "cell_type": "code",
   "execution_count": 79,
   "metadata": {},
   "outputs": [
    {
     "data": {
      "text/plain": [
       "(array([[1, 0],\n",
       "        [0, 1],\n",
       "        [0, 1]], dtype=uint8),\n",
       " array([[0],\n",
       "        [1],\n",
       "        [1]], dtype=uint8))"
      ]
     },
     "execution_count": 79,
     "metadata": {},
     "output_type": "execute_result"
    }
   ],
   "source": [
    "y_test_enc[:3], y_test[:3]"
   ]
  },
  {
   "cell_type": "code",
   "execution_count": 80,
   "metadata": {},
   "outputs": [],
   "source": [
    "from classification_models.tfkeras import Classifiers\n",
    "def get_resnet_simclr(hidden_1, hidden_2, hidden_3):\n",
    "    ResNet18, preprocess_input = Classifiers.get('resnet18')\n",
    "    base_model = ResNet18(include_top=False, weights='imagenet', input_shape=(224, 224, 3))\n",
    "    base_model.trainable = True\n",
    "    inputs = Input((224, 224, 3))\n",
    "    h = base_model(inputs, training=False)\n",
    "    h = GlobalAveragePooling2D()(h)\n",
    "\n",
    "    projection_1 = Dense(hidden_1)(h)\n",
    "    projection_1 = Activation(\"relu\")(projection_1)\n",
    "    projection_2 = Dense(hidden_2)(projection_1)\n",
    "#     projection_2 = Activation(\"relu\")(projection_2)\n",
    "#     projection_3 = Dense(hidden_3)(projection_2)\n",
    "\n",
    "    resnet_simclr = Model(inputs, projection_2)\n",
    "\n",
    "    return resnet_simclr"
   ]
  },
  {
   "cell_type": "code",
   "execution_count": 81,
   "metadata": {},
   "outputs": [
    {
     "name": "stdout",
     "output_type": "stream",
     "text": [
      "Model: \"functional_32\"\n",
      "_________________________________________________________________\n",
      "Layer (type)                 Output Shape              Param #   \n",
      "=================================================================\n",
      "input_7 (InputLayer)         [(None, 224, 224, 3)]     0         \n",
      "_________________________________________________________________\n",
      "functional_30 (Functional)   (None, 7, 7, 512)         11186889  \n",
      "_________________________________________________________________\n",
      "global_average_pooling2d_6 ( (None, 512)               0         \n",
      "_________________________________________________________________\n",
      "dense_8 (Dense)              (None, 512)               262656    \n",
      "_________________________________________________________________\n",
      "activation_3 (Activation)    (None, 512)               0         \n",
      "_________________________________________________________________\n",
      "dense_9 (Dense)              (None, 512)               262656    \n",
      "=================================================================\n",
      "Total params: 11,712,201\n",
      "Trainable params: 11,704,259\n",
      "Non-trainable params: 7,942\n",
      "_________________________________________________________________\n"
     ]
    }
   ],
   "source": [
    "\n",
    "resnet_simclr = get_resnet_simclr(512,512,512)\n",
    "resnet_simclr.load_weights('model_18_layers2_512_sgd_cc.h5')\n",
    "\n",
    "# ResNet18, _ = Classifiers.get('resnet18')\n",
    "# base_model = ResNet18(include_top=False, weights='imagenet', input_shape=(224, 224, 3))\n",
    "# base_model.trainable = True\n",
    "# inputs = Input((224, 224, 3))\n",
    "# h = base_model(inputs, training=False)\n",
    "# h = GlobalAveragePooling2D()(h)\n",
    "# resnet_simclr = Model(inputs, h)\n",
    "\n",
    "resnet_simclr.summary()"
   ]
  },
  {
   "cell_type": "code",
   "execution_count": 82,
   "metadata": {},
   "outputs": [],
   "source": [
    "def plot_training(H):\n",
    "\twith plt.xkcd():\n",
    "# \t\tplt.plot(H.history[\"loss\"], label=\"train_loss\")\n",
    "# \t\tplt.plot(H.history[\"val_loss\"], label=\"val_loss\")\n",
    "\t\tplt.plot(H.history[\"accuracy\"], label=\"train_acc\")\n",
    "\t\tplt.plot(H.history[\"val_accuracy\"], label=\"val_acc\")\n",
    "\t\tplt.title(\"Training Accuracy\")\n",
    "\t\tplt.xlabel(\"Epoch #\")\n",
    "\t\tplt.ylabel(\"Accuracy\")\n",
    "\t\tplt.legend(loc=\"lower left\")\n",
    "\t\tplt.show()"
   ]
  },
  {
   "cell_type": "code",
   "execution_count": 83,
   "metadata": {},
   "outputs": [],
   "source": [
    "\n",
    "def get_linear_model(features):\n",
    "    linear_model = Sequential([Dense(2, input_shape=(features, ), activation=\"softmax\")])\n",
    "    return linear_model"
   ]
  },
  {
   "cell_type": "code",
   "execution_count": 84,
   "metadata": {},
   "outputs": [
    {
     "name": "stdout",
     "output_type": "stream",
     "text": [
      "Model: \"functional_32\"\n",
      "_________________________________________________________________\n",
      "Layer (type)                 Output Shape              Param #   \n",
      "=================================================================\n",
      "input_7 (InputLayer)         [(None, 224, 224, 3)]     0         \n",
      "_________________________________________________________________\n",
      "functional_30 (Functional)   (None, 7, 7, 512)         11186889  \n",
      "_________________________________________________________________\n",
      "global_average_pooling2d_6 ( (None, 512)               0         \n",
      "_________________________________________________________________\n",
      "dense_8 (Dense)              (None, 512)               262656    \n",
      "_________________________________________________________________\n",
      "activation_3 (Activation)    (None, 512)               0         \n",
      "_________________________________________________________________\n",
      "dense_9 (Dense)              (None, 512)               262656    \n",
      "=================================================================\n",
      "Total params: 11,712,201\n",
      "Trainable params: 525,312\n",
      "Non-trainable params: 11,186,889\n",
      "_________________________________________________________________\n"
     ]
    }
   ],
   "source": [
    "resnet_simclr.layers[1].trainable = False\n",
    "resnet_simclr.summary()"
   ]
  },
  {
   "cell_type": "code",
   "execution_count": 85,
   "metadata": {},
   "outputs": [],
   "source": [
    "# X_train.max(), X_test.max()"
   ]
  },
  {
   "cell_type": "code",
   "execution_count": 87,
   "metadata": {},
   "outputs": [],
   "source": [
    "# Encoder model with non-linear projections\n",
    "projection = Model(resnet_simclr.input, resnet_simclr.layers[-2].output)\n",
    "\n",
    "import time\n",
    "tic = time.time()\n",
    "# Extract train and test features\n",
    "train_features = projection.predict(X_train)\n",
    "print(train_features.shape)\n",
    "test_features = projection.predict(X_test)\n",
    "print(time.time() - tic)\n",
    "\n",
    "print( test_features.shape)"
   ]
  },
  {
   "cell_type": "code",
   "execution_count": 35,
   "metadata": {},
   "outputs": [
    {
     "name": "stdout",
     "output_type": "stream",
     "text": [
      "Model: \"functional_19\"\n",
      "_________________________________________________________________\n",
      "Layer (type)                 Output Shape              Param #   \n",
      "=================================================================\n",
      "input_4 (InputLayer)         [(None, 224, 224, 3)]     0         \n",
      "_________________________________________________________________\n",
      "functional_15 (Functional)   (None, 7, 7, 512)         11186889  \n",
      "_________________________________________________________________\n",
      "global_average_pooling2d_3 ( (None, 512)               0         \n",
      "_________________________________________________________________\n",
      "dense_5 (Dense)              (None, 512)               262656    \n",
      "_________________________________________________________________\n",
      "activation_2 (Activation)    (None, 512)               0         \n",
      "=================================================================\n",
      "Total params: 11,449,545\n",
      "Trainable params: 262,656\n",
      "Non-trainable params: 11,186,889\n",
      "_________________________________________________________________\n"
     ]
    }
   ],
   "source": [
    "projection.summary()\n"
   ]
  },
  {
   "cell_type": "code",
   "execution_count": 36,
   "metadata": {},
   "outputs": [],
   "source": [
    "# from sklearn.preprocessing import MinMaxScaler\n",
    "# scaler = MinMaxScaler()\n",
    "# train_features1 = scaler.fit_transform(train_features)\n",
    "# test_features1 = scaler.transform(test_features)"
   ]
  },
  {
   "cell_type": "code",
   "execution_count": 37,
   "metadata": {},
   "outputs": [],
   "source": [
    "# Early Stopping to prevent overfitting\n",
    "es = tf.keras.callbacks.EarlyStopping(monitor=\"val_loss\", patience=50, verbose=2, restore_best_weights=True)"
   ]
  },
  {
   "cell_type": "code",
   "execution_count": 38,
   "metadata": {
    "scrolled": true
   },
   "outputs": [
    {
     "name": "stdout",
     "output_type": "stream",
     "text": [
      "Model: \"sequential_1\"\n",
      "_________________________________________________________________\n",
      "Layer (type)                 Output Shape              Param #   \n",
      "=================================================================\n",
      "dense_7 (Dense)              (None, 2)                 1026      \n",
      "=================================================================\n",
      "Total params: 1,026\n",
      "Trainable params: 1,026\n",
      "Non-trainable params: 0\n",
      "_________________________________________________________________\n"
     ]
    }
   ],
   "source": [
    "linear_model = get_linear_model(512)\n",
    "linear_model.summary()\n",
    "linear_model.compile(loss=\"categorical_crossentropy\", metrics=[\"accuracy\"],\n",
    "                     optimizer=\"adam\")\n"
   ]
  },
  {
   "cell_type": "code",
   "execution_count": 39,
   "metadata": {},
   "outputs": [
    {
     "name": "stdout",
     "output_type": "stream",
     "text": [
      "Epoch 1/30\n",
      "1487/1487 [==============================] - 4s 3ms/step - loss: 0.4057 - accuracy: 0.8299 - val_loss: 0.4447 - val_accuracy: 0.8159\n",
      "Epoch 2/30\n",
      "1487/1487 [==============================] - 4s 3ms/step - loss: 0.3859 - accuracy: 0.8396 - val_loss: 0.4518 - val_accuracy: 0.8123\n",
      "Epoch 3/30\n",
      "1487/1487 [==============================] - 4s 3ms/step - loss: 0.3834 - accuracy: 0.8402 - val_loss: 0.4484 - val_accuracy: 0.8128\n",
      "Epoch 4/30\n",
      "1487/1487 [==============================] - 4s 3ms/step - loss: 0.3839 - accuracy: 0.8399 - val_loss: 0.4433 - val_accuracy: 0.8165\n",
      "Epoch 5/30\n",
      "1487/1487 [==============================] - 4s 3ms/step - loss: 0.3824 - accuracy: 0.8402 - val_loss: 0.4390 - val_accuracy: 0.8154\n",
      "Epoch 6/30\n",
      "1487/1487 [==============================] - 4s 3ms/step - loss: 0.3814 - accuracy: 0.8406 - val_loss: 0.4378 - val_accuracy: 0.8170\n",
      "Epoch 7/30\n",
      "1487/1487 [==============================] - 4s 3ms/step - loss: 0.3818 - accuracy: 0.8403 - val_loss: 0.4375 - val_accuracy: 0.8171\n",
      "Epoch 8/30\n",
      "1487/1487 [==============================] - 4s 3ms/step - loss: 0.3819 - accuracy: 0.8402 - val_loss: 0.4240 - val_accuracy: 0.8172\n",
      "Epoch 9/30\n",
      "1487/1487 [==============================] - 4s 3ms/step - loss: 0.3814 - accuracy: 0.8410 - val_loss: 0.4371 - val_accuracy: 0.8149\n",
      "Epoch 10/30\n",
      "1487/1487 [==============================] - 4s 3ms/step - loss: 0.3814 - accuracy: 0.8407 - val_loss: 0.4252 - val_accuracy: 0.8161\n",
      "Epoch 11/30\n",
      "1487/1487 [==============================] - 4s 3ms/step - loss: 0.3821 - accuracy: 0.8407 - val_loss: 0.4273 - val_accuracy: 0.8161\n",
      "Epoch 12/30\n",
      "1487/1487 [==============================] - 4s 3ms/step - loss: 0.3818 - accuracy: 0.8404 - val_loss: 0.4599 - val_accuracy: 0.8066\n",
      "Epoch 13/30\n",
      "1487/1487 [==============================] - 4s 3ms/step - loss: 0.3816 - accuracy: 0.8403 - val_loss: 0.4318 - val_accuracy: 0.8177\n",
      "Epoch 14/30\n",
      "1487/1487 [==============================] - 4s 3ms/step - loss: 0.3823 - accuracy: 0.8408 - val_loss: 0.4473 - val_accuracy: 0.8109\n",
      "Epoch 15/30\n",
      "1487/1487 [==============================] - 4s 3ms/step - loss: 0.3815 - accuracy: 0.8404 - val_loss: 0.4360 - val_accuracy: 0.8161\n",
      "Epoch 16/30\n",
      "1487/1487 [==============================] - 4s 3ms/step - loss: 0.3809 - accuracy: 0.8411 - val_loss: 0.4255 - val_accuracy: 0.8170\n",
      "Epoch 17/30\n",
      "1487/1487 [==============================] - 4s 3ms/step - loss: 0.3819 - accuracy: 0.8412 - val_loss: 0.4367 - val_accuracy: 0.8144\n",
      "Epoch 18/30\n",
      "1487/1487 [==============================] - 4s 3ms/step - loss: 0.3813 - accuracy: 0.8405 - val_loss: 0.4388 - val_accuracy: 0.8152\n",
      "Epoch 19/30\n",
      "1487/1487 [==============================] - 4s 3ms/step - loss: 0.3815 - accuracy: 0.8409 - val_loss: 0.4214 - val_accuracy: 0.8182\n",
      "Epoch 20/30\n",
      "1487/1487 [==============================] - 4s 3ms/step - loss: 0.3818 - accuracy: 0.8410 - val_loss: 0.4299 - val_accuracy: 0.8167\n",
      "Epoch 21/30\n",
      "1487/1487 [==============================] - 4s 3ms/step - loss: 0.3811 - accuracy: 0.8415 - val_loss: 0.4251 - val_accuracy: 0.8185\n",
      "Epoch 22/30\n",
      "1487/1487 [==============================] - 4s 3ms/step - loss: 0.3815 - accuracy: 0.8404 - val_loss: 0.4365 - val_accuracy: 0.8160\n",
      "Epoch 23/30\n",
      "1487/1487 [==============================] - 4s 3ms/step - loss: 0.3812 - accuracy: 0.8404 - val_loss: 0.4636 - val_accuracy: 0.8063\n",
      "Epoch 24/30\n",
      "1487/1487 [==============================] - 4s 3ms/step - loss: 0.3811 - accuracy: 0.8411 - val_loss: 0.4682 - val_accuracy: 0.8102\n",
      "Epoch 25/30\n",
      "1487/1487 [==============================] - 4s 3ms/step - loss: 0.3814 - accuracy: 0.8407 - val_loss: 0.4592 - val_accuracy: 0.8123\n",
      "Epoch 26/30\n",
      "1487/1487 [==============================] - 4s 3ms/step - loss: 0.3821 - accuracy: 0.8397 - val_loss: 0.4294 - val_accuracy: 0.8155\n",
      "Epoch 27/30\n",
      "1487/1487 [==============================] - 4s 3ms/step - loss: 0.3818 - accuracy: 0.8405 - val_loss: 0.4266 - val_accuracy: 0.8165\n",
      "Epoch 28/30\n",
      "1487/1487 [==============================] - 4s 3ms/step - loss: 0.3821 - accuracy: 0.8406 - val_loss: 0.4333 - val_accuracy: 0.8157\n",
      "Epoch 29/30\n",
      "1487/1487 [==============================] - 4s 3ms/step - loss: 0.3815 - accuracy: 0.8410 - val_loss: 0.4369 - val_accuracy: 0.8171\n",
      "Epoch 30/30\n",
      "1487/1487 [==============================] - 4s 3ms/step - loss: 0.3807 - accuracy: 0.8411 - val_loss: 0.4340 - val_accuracy: 0.8161\n"
     ]
    },
    {
     "name": "stderr",
     "output_type": "stream",
     "text": [
      "WARNING:matplotlib.font_manager:findfont: Font family ['xkcd', 'xkcd Script', 'Humor Sans', 'Comic Neue', 'Comic Sans MS'] not found. Falling back to DejaVu Sans.\n",
      "WARNING:matplotlib.font_manager:findfont: Font family ['xkcd', 'xkcd Script', 'Humor Sans', 'Comic Neue', 'Comic Sans MS'] not found. Falling back to DejaVu Sans.\n"
     ]
    },
    {
     "data": {
      "image/png": "[encoded data removed]",
      "text/plain": [
       "<Figure size 432x288 with 1 Axes>"
      ]
     },
     "metadata": {},
     "output_type": "display_data"
    }
   ],
   "source": [
    "history = linear_model.fit(train_features, y_train_enc,\n",
    "                 validation_data=(test_features, y_test_enc),\n",
    "                 batch_size=64,\n",
    "                 epochs=30,\n",
    "                 callbacks=[es])\n",
    "plot_training(history)"
   ]
  },
  {
   "cell_type": "code",
   "execution_count": 40,
   "metadata": {},
   "outputs": [
    {
     "data": {
      "text/plain": [
       "array([[1, 0],\n",
       "       [0, 1],\n",
       "       [1, 0],\n",
       "       ...,\n",
       "       [1, 0],\n",
       "       [1, 0],\n",
       "       [1, 0]], dtype=uint8)"
      ]
     },
     "execution_count": 40,
     "metadata": {},
     "output_type": "execute_result"
    }
   ],
   "source": [
    "y_train_enc"
   ]
  },
  {
   "cell_type": "code",
   "execution_count": 41,
   "metadata": {},
   "outputs": [
    {
     "name": "stderr",
     "output_type": "stream",
     "text": [
      "/gpfs/users/liashuhamy/.conda/envs/pcamenv/lib/python3.7/site-packages/sklearn/utils/validation.py:63: DataConversionWarning: A column-vector y was passed when a 1d array was expected. Please change the shape of y to (n_samples, ), for example using ravel().\n",
      "  return f(*args, **kwargs)\n"
     ]
    },
    {
     "data": {
      "text/plain": [
       "0.8100079218378664"
      ]
     },
     "execution_count": 41,
     "metadata": {},
     "output_type": "execute_result"
    }
   ],
   "source": [
    "from sklearn.linear_model import LinearRegression, SGDClassifier\n",
    "reg = SGDClassifier().fit(train_features, y_train)\n",
    "reg.score(test_features, y_test)"
   ]
  },
  {
   "cell_type": "code",
   "execution_count": 60,
   "metadata": {},
   "outputs": [
    {
     "ename": "AttributeError",
     "evalue": "'PrefetchDataset' object has no attribute 'shape'",
     "output_type": "error",
     "traceback": [
      "\u001b[0;31m---------------------------------------------------------------------------\u001b[0m",
      "\u001b[0;31mAttributeError\u001b[0m                            Traceback (most recent call last)",
      "\u001b[0;32m<ipython-input-60-d2ba684acd0f>\u001b[0m in \u001b[0;36m<module>\u001b[0;34m\u001b[0m\n\u001b[0;32m----> 1\u001b[0;31m \u001b[0mX_train\u001b[0m\u001b[0;34m.\u001b[0m\u001b[0mshape\u001b[0m\u001b[0;34m\u001b[0m\u001b[0;34m\u001b[0m\u001b[0m\n\u001b[0m",
      "\u001b[0;31mAttributeError\u001b[0m: 'PrefetchDataset' object has no attribute 'shape'"
     ]
    }
   ],
   "source": [
    "X_train.shape"
   ]
  },
  {
   "cell_type": "code",
   "execution_count": 61,
   "metadata": {},
   "outputs": [
    {
     "data": {
      "text/plain": [
       "(95106, 512)"
      ]
     },
     "execution_count": 61,
     "metadata": {},
     "output_type": "execute_result"
    }
   ],
   "source": [
    "train_features.shape"
   ]
  },
  {
   "cell_type": "code",
   "execution_count": 42,
   "metadata": {},
   "outputs": [
    {
     "name": "stderr",
     "output_type": "stream",
     "text": [
      "/gpfs/users/liashuhamy/.conda/envs/pcamenv/lib/python3.7/site-packages/sklearn/utils/validation.py:63: DataConversionWarning: A column-vector y was passed when a 1d array was expected. Please change the shape of y to (n_samples, ), for example using ravel().\n",
      "  return f(*args, **kwargs)\n",
      "/gpfs/users/liashuhamy/.conda/envs/pcamenv/lib/python3.7/site-packages/sklearn/linear_model/_logistic.py:765: ConvergenceWarning: lbfgs failed to converge (status=1):\n",
      "STOP: TOTAL NO. of ITERATIONS REACHED LIMIT.\n",
      "\n",
      "Increase the number of iterations (max_iter) or scale the data as shown in:\n",
      "    https://scikit-learn.org/stable/modules/preprocessing.html\n",
      "Please also refer to the documentation for alternative solver options:\n",
      "    https://scikit-learn.org/stable/modules/linear_model.html#logistic-regression\n",
      "  extra_warning_msg=_LOGISTIC_SOLVER_CONVERGENCE_MSG)\n"
     ]
    },
    {
     "data": {
      "text/plain": [
       "0.8178307367309215"
      ]
     },
     "execution_count": 42,
     "metadata": {},
     "output_type": "execute_result"
    }
   ],
   "source": [
    "from sklearn.linear_model import LogisticRegression\n",
    "\n",
    "clf = LogisticRegression(random_state=0, max_iter=100).fit(train_features, y_train)\n",
    "clf.score(test_features, y_test)"
   ]
  },
  {
   "cell_type": "code",
   "execution_count": 76,
   "metadata": {},
   "outputs": [
    {
     "data": {
      "text/plain": [
       "0.8175666754687088"
      ]
     },
     "execution_count": 76,
     "metadata": {},
     "output_type": "execute_result"
    }
   ],
   "source": [
    "clf.score(test_features, y_test)"
   ]
  },
  {
   "cell_type": "code",
   "execution_count": null,
   "metadata": {},
   "outputs": [],
   "source": []
  }
 ],
 "metadata": {
  "kernelspec": {
   "display_name": "Python 3",
   "language": "python",
   "name": "python3"
  },
  "language_info": {
   "codemirror_mode": {
    "name": "ipython",
    "version": 3
   },
   "file_extension": ".py",
   "mimetype": "text/x-python",
   "name": "python",
   "nbconvert_exporter": "python",
   "pygments_lexer": "ipython3",
   "version": "3.7.10"
  }
 },
 "nbformat": 4,
 "nbformat_minor": 4
}
