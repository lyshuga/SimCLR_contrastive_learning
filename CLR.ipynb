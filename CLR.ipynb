{
 "cells": [
  {
   "cell_type": "code",
   "execution_count": 1,
   "metadata": {},
   "outputs": [
    {
     "data": {
      "text/plain": [
       "['/gpfs/workdir/liashuhamy/clr',\n",
       " '/gpfs/users/liashuhamy/.conda/envs/pcamenv/lib/python37.zip',\n",
       " '/gpfs/users/liashuhamy/.conda/envs/pcamenv/lib/python3.7',\n",
       " '/gpfs/users/liashuhamy/.conda/envs/pcamenv/lib/python3.7/lib-dynload',\n",
       " '',\n",
       " '/gpfs/users/liashuhamy/.local/lib/python3.7/site-packages',\n",
       " '/gpfs/users/liashuhamy/.conda/envs/pcamenv/lib/python3.7/site-packages',\n",
       " '/gpfs/users/liashuhamy/.conda/envs/pcamenv/lib/python3.7/site-packages/locket-0.2.1-py3.7.egg',\n",
       " '/gpfs/users/liashuhamy/.conda/envs/pcamenv/lib/python3.7/site-packages/IPython/extensions',\n",
       " '/gpfs/users/liashuhamy/.ipython']"
      ]
     },
     "execution_count": 1,
     "metadata": {},
     "output_type": "execute_result"
    }
   ],
   "source": [
    "import os\n",
    "os.sys.path"
   ]
  },
  {
   "cell_type": "code",
   "execution_count": 2,
   "metadata": {},
   "outputs": [],
   "source": [
    "os.sys.path.append('/gpfs/users/liashuhamy/.conda/envs/pcamenv/lib/python3.7/site-packages')"
   ]
  },
  {
   "cell_type": "code",
   "execution_count": 3,
   "metadata": {},
   "outputs": [],
   "source": [
    "import numpy as np\n",
    "import cv2"
   ]
  },
  {
   "cell_type": "code",
   "execution_count": 4,
   "metadata": {},
   "outputs": [
    {
     "name": "stdout",
     "output_type": "stream",
     "text": [
      "2.3.2\n"
     ]
    }
   ],
   "source": [
    "\n",
    "import tensorflow as tf\n",
    "print(tf.__version__)"
   ]
  },
  {
   "cell_type": "code",
   "execution_count": 5,
   "metadata": {},
   "outputs": [
    {
     "name": "stdout",
     "output_type": "stream",
     "text": [
      "Sun Jul 18 09:30:06 2021       \n",
      "+-----------------------------------------------------------------------------+\n",
      "| NVIDIA-SMI 460.32.03    Driver Version: 460.32.03    CUDA Version: 11.2     |\n",
      "|-------------------------------+----------------------+----------------------+\n",
      "| GPU  Name        Persistence-M| Bus-Id        Disp.A | Volatile Uncorr. ECC |\n",
      "| Fan  Temp  Perf  Pwr:Usage/Cap|         Memory-Usage | GPU-Util  Compute M. |\n",
      "|                               |                      |               MIG M. |\n",
      "|===============================+======================+======================|\n",
      "|   0  Tesla V100-PCIE...  On   | 00000000:86:00.0 Off |                    0 |\n",
      "| N/A   34C    P0    26W / 250W |      0MiB / 32510MiB |      0%      Default |\n",
      "|                               |                      |                  N/A |\n",
      "+-------------------------------+----------------------+----------------------+\n",
      "                                                                               \n",
      "+-----------------------------------------------------------------------------+\n",
      "| Processes:                                                                  |\n",
      "|  GPU   GI   CI        PID   Type   Process name                  GPU Memory |\n",
      "|        ID   ID                                                   Usage      |\n",
      "|=============================================================================|\n",
      "|  No running processes found                                                 |\n",
      "+-----------------------------------------------------------------------------+\n"
     ]
    }
   ],
   "source": [
    "!nvidia-smi"
   ]
  },
  {
   "cell_type": "code",
   "execution_count": 6,
   "metadata": {},
   "outputs": [],
   "source": [
    "from sklearn.preprocessing import LabelEncoder\n",
    "from sklearn.manifold import TSNE\n",
    "from tensorflow.keras.layers import *\n",
    "from tensorflow.keras.models import *\n",
    "import matplotlib.pyplot as plt\n",
    "# from imutils import paths\n",
    "from tqdm import tqdm\n",
    "import tensorflow as tf\n",
    "# import seaborn as sns\n",
    "import numpy as np\n",
    "# import cv2\n",
    "\n",
    "# Random seed fixation\n",
    "tf.random.set_seed(666)\n",
    "np.random.seed(666)"
   ]
  },
  {
   "cell_type": "code",
   "execution_count": 7,
   "metadata": {},
   "outputs": [],
   "source": [
    "# import h5py\n",
    "\n",
    "# X_train = h5py.File('/gpfs/workdir/liashuhamy/camel/raw/pre_9_patient_split_vahadane/camelyonpatch_level_2_split_train_x.h5', 'r')['x'][:]\n",
    "# y_train = h5py.File('/gpfs/workdir/liashuhamy/camel/raw/pre_9_patient_split_vahadane/camelyonpatch_level_2_split_train_y.h5', 'r')['y'][:].reshape((-1,1))\n",
    "\n",
    "# X_test = h5py.File('/gpfs/workdir/liashuhamy/camel/raw/pre_9_patient_split_vahadane/camelyonpatch_level_2_split_valid_x.h5', 'r')['x'][:]\n",
    "# y_test = h5py.File('/gpfs/workdir/liashuhamy/camel/raw/pre_9_patient_split_vahadane/camelyonpatch_level_2_split_valid_y.h5', 'r')['y'][:].reshape((-1,1))"
   ]
  },
  {
   "cell_type": "code",
   "execution_count": 8,
   "metadata": {},
   "outputs": [],
   "source": [
    "# from PIL import Image\n",
    "# def resize(img, size):\n",
    "#     img = Image.fromarray(img)\n",
    "#     img = img.resize(size)\n",
    "#     return np.array(img)"
   ]
  },
  {
   "cell_type": "code",
   "execution_count": 9,
   "metadata": {},
   "outputs": [],
   "source": [
    "# import cv2\n",
    "# import numpy as np\n",
    "# new_x = []\n",
    "# from tqdm import tqdm\n",
    "# for i in tqdm(range(X_train.shape[0])):\n",
    "#     new_x.append(cv2.resize(X_train[i], (224, 224)))\n",
    "# X_train = np.array(new_x)\n",
    "\n",
    "# new_x = []\n",
    "# from tqdm import tqdm\n",
    "# for i in tqdm(range(X_test.shape[0])):\n",
    "#     new_x.append(cv2.resize(X_test[i], (224, 224)))\n",
    "# X_test = np.array(new_x)\n",
    "\n",
    "# X_train.shape, X_test.shape"
   ]
  },
  {
   "cell_type": "code",
   "execution_count": 10,
   "metadata": {},
   "outputs": [],
   "source": [
    "# X_train = X_train / 255.\n",
    "# X_test = X_test / 255.\n"
   ]
  },
  {
   "cell_type": "code",
   "execution_count": 11,
   "metadata": {},
   "outputs": [],
   "source": [
    "# _, preprocess_input = Classifiers.get('resnet18')"
   ]
  },
  {
   "cell_type": "code",
   "execution_count": 12,
   "metadata": {},
   "outputs": [],
   "source": [
    "# X_train[0][:10,:10, 0]"
   ]
  },
  {
   "cell_type": "code",
   "execution_count": 13,
   "metadata": {},
   "outputs": [],
   "source": [
    "# preprocess_input(X_train[0])[:10,:10, 0]"
   ]
  },
  {
   "cell_type": "markdown",
   "metadata": {},
   "source": [
    "Data load is here"
   ]
  },
  {
   "cell_type": "code",
   "execution_count": 459,
   "metadata": {},
   "outputs": [],
   "source": [
    "import h5py\n",
    "\n",
    "import tensorflow_io as tfio\n",
    "X_train = tfio.IODataset.from_hdf5('/gpfs/workdir/shared/cpm4c/CAMELYON/prepared_datasets/pre_10_vahadane/camelyonpatch_level_2_split_train_x.h5', dataset='/x')\n",
    "y_train = h5py.File('/gpfs/workdir/shared/cpm4c/CAMELYON/prepared_datasets/pre_10_vahadane/camelyonpatch_level_2_split_train_y.h5', 'r')['y'][:].reshape((-1,1))\n",
    "X_test = tfio.IODataset.from_hdf5('/gpfs/workdir/shared/cpm4c/CAMELYON/prepared_datasets/pre_10_vahadane/camelyonpatch_level_2_split_valid_x.h5', dataset='/x')\n",
    "y_test = h5py.File('/gpfs/workdir/shared/cpm4c/CAMELYON/prepared_datasets/pre_10_vahadane/camelyonpatch_level_2_split_valid_y.h5', 'r')['y'][:].reshape((-1,1))"
   ]
  },
  {
   "cell_type": "code",
   "execution_count": 14,
   "metadata": {},
   "outputs": [],
   "source": [
    "import h5py\n",
    "\n",
    "import tensorflow_io as tfio\n",
    "X_train = tfio.IODataset.from_hdf5('/gpfs/workdir/liashuhamy/camel/raw/pre_9_patient_split_vahadane/camelyonpatch_level_2_split_train_x.h5', dataset='/x')\n",
    "y_train = h5py.File('/gpfs/workdir/liashuhamy/camel/raw/pre_9_patient_split_vahadane/camelyonpatch_level_2_split_train_y.h5', 'r')['y'][:].reshape((-1,1))\n",
    "X_test = tfio.IODataset.from_hdf5('/gpfs/workdir/liashuhamy/camel/raw/pre_9_patient_split_vahadane/camelyonpatch_level_2_split_valid_x.h5', dataset='/x')\n",
    "y_test = h5py.File('/gpfs/workdir/liashuhamy/camel/raw/pre_9_patient_split_vahadane/camelyonpatch_level_2_split_valid_y.h5', 'r')['y'][:].reshape((-1,1))"
   ]
  },
  {
   "cell_type": "code",
   "execution_count": 15,
   "metadata": {},
   "outputs": [
    {
     "data": {
      "text/plain": [
       "(95106, 47553, 47553.0)"
      ]
     },
     "execution_count": 15,
     "metadata": {},
     "output_type": "execute_result"
    }
   ],
   "source": [
    "y_train.shape[0], y_train.sum(), y_train.shape[0] - y_train.sum()"
   ]
  },
  {
   "cell_type": "code",
   "execution_count": 16,
   "metadata": {},
   "outputs": [
    {
     "data": {
      "text/plain": [
       "(30296, 15148, 15148.0)"
      ]
     },
     "execution_count": 16,
     "metadata": {},
     "output_type": "execute_result"
    }
   ],
   "source": [
    "y_test.shape[0], y_test.sum(), y_test.shape[0] - y_test.sum()"
   ]
  },
  {
   "cell_type": "code",
   "execution_count": 17,
   "metadata": {},
   "outputs": [],
   "source": [
    "mean=[0.485, 0.456, 0.406]\n",
    "std=[0.229, 0.224, 0.225]\n"
   ]
  },
  {
   "cell_type": "code",
   "execution_count": 18,
   "metadata": {},
   "outputs": [],
   "source": [
    "X_train = X_train.map(lambda x: tf.image.resize(x, [112,112]))\n",
    "X_train = X_train.map(lambda x: tf.cast(x,tf.float32)/255.)\n",
    "X_train = X_train.map(lambda x: (x - mean)/std)\n",
    "X_train = (\n",
    "    X_train\n",
    "    .batch(33)\n",
    "    .prefetch(tf.data.experimental.AUTOTUNE)\n",
    "    \n",
    ")"
   ]
  },
  {
   "cell_type": "code",
   "execution_count": 19,
   "metadata": {},
   "outputs": [],
   "source": [
    "X_test = X_test.map(lambda x: tf.image.resize(x, [112,112]))\n",
    "X_test = X_test.map(lambda x: tf.cast(x,tf.float32)/255.)\n",
    "X_test = X_test.map(lambda x: (x - mean)/std)\n",
    "X_test = (\n",
    "    X_test\n",
    "    .batch(28)\n",
    "    .prefetch(tf.data.experimental.AUTOTUNE)\n",
    "    \n",
    ")"
   ]
  },
  {
   "cell_type": "code",
   "execution_count": 20,
   "metadata": {},
   "outputs": [],
   "source": [
    "# from sklearn.model_selection import train_test_split\n",
    "# X_train, X_test, y_train, y_test = train_test_split(x, y, test_size=0.33, random_state=42)"
   ]
  },
  {
   "cell_type": "code",
   "execution_count": 21,
   "metadata": {},
   "outputs": [
    {
     "name": "stderr",
     "output_type": "stream",
     "text": [
      "/gpfs/users/liashuhamy/.conda/envs/pcamenv/lib/python3.7/site-packages/sklearn/utils/validation.py:63: DataConversionWarning: A column-vector y was passed when a 1d array was expected. Please change the shape of y to (n_samples, ), for example using ravel().\n",
      "  return f(*args, **kwargs)\n"
     ]
    }
   ],
   "source": [
    "le = LabelEncoder()\n",
    "y_train_enc = le.fit_transform(y_train)\n",
    "y_test_enc = le.transform(y_test)"
   ]
  },
  {
   "cell_type": "code",
   "execution_count": 22,
   "metadata": {},
   "outputs": [],
   "source": [
    "y_train_enc = np.array([[1-i, i] for i in y_train]).reshape((-1,2))\n",
    "y_test_enc = np.array([[1-i, i] for i in y_test]).reshape((-1,2))"
   ]
  },
  {
   "cell_type": "code",
   "execution_count": 23,
   "metadata": {},
   "outputs": [
    {
     "data": {
      "text/plain": [
       "((95106, 2), (30296, 2))"
      ]
     },
     "execution_count": 23,
     "metadata": {},
     "output_type": "execute_result"
    }
   ],
   "source": [
    "y_train_enc.shape, y_test_enc.shape"
   ]
  },
  {
   "cell_type": "code",
   "execution_count": 24,
   "metadata": {},
   "outputs": [
    {
     "data": {
      "text/plain": [
       "(array([[1, 0],\n",
       "        [0, 1],\n",
       "        [0, 1]], dtype=uint8),\n",
       " array([[0],\n",
       "        [1],\n",
       "        [1]], dtype=uint8))"
      ]
     },
     "execution_count": 24,
     "metadata": {},
     "output_type": "execute_result"
    }
   ],
   "source": [
    "y_test_enc[:3], y_test[:3]"
   ]
  },
  {
   "cell_type": "code",
   "execution_count": 25,
   "metadata": {},
   "outputs": [],
   "source": [
    "from classification_models.tfkeras import Classifiers\n",
    "from tensorflow import keras\n",
    "def get_resnet_simclr(hidden_1, hidden_2, hidden_3):\n",
    "    ResNet18, preprocess_input = Classifiers.get('resnet18')#keras.models.load_model('resnet18.h5')\n",
    "    base_model = keras.models.load_model('resnet18_112.h5')#ResNet18(include_top=False, weights='imagenet', input_shape=(224, 224, 3))\n",
    "    base_model.trainable = True\n",
    "    inputs = Input((224, 224, 3))\n",
    "    h = base_model(inputs, training=False)\n",
    "    h = GlobalAveragePooling2D()(h)\n",
    "\n",
    "    projection_1 = Dense(hidden_1)(h)\n",
    "    projection_1 = Activation(\"relu\")(projection_1)\n",
    "    projection_2 = Dense(hidden_2)(projection_1)\n",
    "#     projection_2 = Activation(\"relu\")(projection_2)\n",
    "#     projection_3 = Dense(hidden_3)(projection_2)\n",
    "\n",
    "    resnet_simclr = Model(inputs, projection_2)\n",
    "\n",
    "    return resnet_simclr"
   ]
  },
  {
   "cell_type": "code",
   "execution_count": 151,
   "metadata": {},
   "outputs": [
    {
     "name": "stdout",
     "output_type": "stream",
     "text": [
      "WARNING:tensorflow:No training configuration found in the save file, so the model was *not* compiled. Compile it manually.\n",
      "WARNING:tensorflow:Model was constructed with shape (None, 112, 112, 3) for input Tensor(\"input_1_13:0\", shape=(None, 112, 112, 3), dtype=float32), but it was called on an input with incompatible shape (None, 224, 224, 3).\n",
      "WARNING:tensorflow:No training configuration found in the save file, so the model was *not* compiled. Compile it manually.\n",
      "Model: \"functional_1\"\n",
      "_________________________________________________________________\n",
      "Layer (type)                 Output Shape              Param #   \n",
      "=================================================================\n",
      "input_1 (InputLayer)         [(None, 224, 224, 3)]     0         \n",
      "_________________________________________________________________\n",
      "model_1 (Functional)         (None, 7, 7, 512)         11186112  \n",
      "_________________________________________________________________\n",
      "global_average_pooling2d (Gl (None, 512)               0         \n",
      "_________________________________________________________________\n",
      "dense (Dense)                (None, 256)               131328    \n",
      "_________________________________________________________________\n",
      "activation (Activation)      (None, 256)               0         \n",
      "_________________________________________________________________\n",
      "dense_1 (Dense)              (None, 256)               65792     \n",
      "=================================================================\n",
      "Total params: 11,383,232\n",
      "Trainable params: 8,590,848\n",
      "Non-trainable params: 2,792,384\n",
      "_________________________________________________________________\n"
     ]
    }
   ],
   "source": [
    "\n",
    "resnet_simclr = get_resnet_simclr(256,256,256)\n",
    "resnet_simclr = keras.models.load_model('model_sgd_augm_112_cntrcrop_001.h5')\n",
    "\n",
    "resnet_simclr.summary()"
   ]
  },
  {
   "cell_type": "code",
   "execution_count": 152,
   "metadata": {},
   "outputs": [],
   "source": [
    "def plot_training(H):\n",
    "\twith plt.xkcd():\n",
    "# \t\tplt.plot(H.history[\"loss\"], label=\"train_loss\")\n",
    "# \t\tplt.plot(H.history[\"val_loss\"], label=\"val_loss\")\n",
    "\t\tplt.plot(H.history[\"accuracy\"], label=\"train_acc\")\n",
    "\t\tplt.plot(H.history[\"val_accuracy\"], label=\"val_acc\")\n",
    "\t\tplt.title(\"Training Accuracy\")\n",
    "\t\tplt.xlabel(\"Epoch #\")\n",
    "\t\tplt.ylabel(\"Accuracy\")\n",
    "\t\tplt.legend(loc=\"lower left\")\n",
    "\t\tplt.show()"
   ]
  },
  {
   "cell_type": "code",
   "execution_count": 153,
   "metadata": {},
   "outputs": [],
   "source": [
    "\n",
    "def get_linear_model(features):\n",
    "    linear_model = Sequential([Dense(2, input_shape=(features, ), activation=\"softmax\")])\n",
    "    return linear_model"
   ]
  },
  {
   "cell_type": "code",
   "execution_count": 154,
   "metadata": {},
   "outputs": [
    {
     "name": "stdout",
     "output_type": "stream",
     "text": [
      "Model: \"model_1\"\n",
      "__________________________________________________________________________________________________\n",
      "Layer (type)                    Output Shape         Param #     Connected to                     \n",
      "==================================================================================================\n",
      "input_1 (InputLayer)            [(None, 224, 224, 3) 0                                            \n",
      "__________________________________________________________________________________________________\n",
      "pad (ZeroPadding2D)             (None, 230, 230, 3)  0           input_1[0][0]                    \n",
      "__________________________________________________________________________________________________\n",
      "conv1 (Conv2D)                  (None, 112, 112, 64) 9408        pad[0][0]                        \n",
      "__________________________________________________________________________________________________\n",
      "bn1 (BatchNormalization)        (None, 112, 112, 64) 256         conv1[0][0]                      \n",
      "__________________________________________________________________________________________________\n",
      "relu (Activation)               (None, 112, 112, 64) 0           bn1[0][0]                        \n",
      "__________________________________________________________________________________________________\n",
      "pad1 (ZeroPadding2D)            (None, 114, 114, 64) 0           relu[0][0]                       \n",
      "__________________________________________________________________________________________________\n",
      "maxpool (MaxPooling2D)          (None, 56, 56, 64)   0           pad1[0][0]                       \n",
      "__________________________________________________________________________________________________\n",
      "layer1.0.conv1 (Conv2D)         (None, 56, 56, 64)   36864       maxpool[0][0]                    \n",
      "__________________________________________________________________________________________________\n",
      "layer1.0.bn1 (BatchNormalizatio (None, 56, 56, 64)   256         layer1.0.conv1[0][0]             \n",
      "__________________________________________________________________________________________________\n",
      "activation (Activation)         (None, 56, 56, 64)   0           layer1.0.bn1[0][0]               \n",
      "__________________________________________________________________________________________________\n",
      "layer1.0.conv2 (Conv2D)         (None, 56, 56, 64)   36864       activation[0][0]                 \n",
      "__________________________________________________________________________________________________\n",
      "layer1.0.bn2 (BatchNormalizatio (None, 56, 56, 64)   256         layer1.0.conv2[0][0]             \n",
      "__________________________________________________________________________________________________\n",
      "add (Add)                       (None, 56, 56, 64)   0           maxpool[0][0]                    \n",
      "                                                                 layer1.0.bn2[0][0]               \n",
      "__________________________________________________________________________________________________\n",
      "activation_1 (Activation)       (None, 56, 56, 64)   0           add[0][0]                        \n",
      "__________________________________________________________________________________________________\n",
      "layer1.1.conv1 (Conv2D)         (None, 56, 56, 64)   36864       activation_1[0][0]               \n",
      "__________________________________________________________________________________________________\n",
      "layer1.1.bn1 (BatchNormalizatio (None, 56, 56, 64)   256         layer1.1.conv1[0][0]             \n",
      "__________________________________________________________________________________________________\n",
      "activation_2 (Activation)       (None, 56, 56, 64)   0           layer1.1.bn1[0][0]               \n",
      "__________________________________________________________________________________________________\n",
      "layer1.1.conv2 (Conv2D)         (None, 56, 56, 64)   36864       activation_2[0][0]               \n",
      "__________________________________________________________________________________________________\n",
      "layer1.1.bn2 (BatchNormalizatio (None, 56, 56, 64)   256         layer1.1.conv2[0][0]             \n",
      "__________________________________________________________________________________________________\n",
      "add_1 (Add)                     (None, 56, 56, 64)   0           activation_1[0][0]               \n",
      "                                                                 layer1.1.bn2[0][0]               \n",
      "__________________________________________________________________________________________________\n",
      "activation_3 (Activation)       (None, 56, 56, 64)   0           add_1[0][0]                      \n",
      "__________________________________________________________________________________________________\n",
      "layer2.0.pad (ZeroPadding2D)    (None, 58, 58, 64)   0           activation_3[0][0]               \n",
      "__________________________________________________________________________________________________\n",
      "layer2.0.conv1 (Conv2D)         (None, 28, 28, 128)  73728       layer2.0.pad[0][0]               \n",
      "__________________________________________________________________________________________________\n",
      "layer2.0.bn1 (BatchNormalizatio (None, 28, 28, 128)  512         layer2.0.conv1[0][0]             \n",
      "__________________________________________________________________________________________________\n",
      "activation_4 (Activation)       (None, 28, 28, 128)  0           layer2.0.bn1[0][0]               \n",
      "__________________________________________________________________________________________________\n",
      "layer2.0.downsample.0 (Conv2D)  (None, 28, 28, 128)  8192        activation_3[0][0]               \n",
      "__________________________________________________________________________________________________\n",
      "layer2.0.conv2 (Conv2D)         (None, 28, 28, 128)  147456      activation_4[0][0]               \n",
      "__________________________________________________________________________________________________\n",
      "layer2.0.downsample.1 (BatchNor (None, 28, 28, 128)  512         layer2.0.downsample.0[0][0]      \n",
      "__________________________________________________________________________________________________\n",
      "layer2.0.bn2 (BatchNormalizatio (None, 28, 28, 128)  512         layer2.0.conv2[0][0]             \n",
      "__________________________________________________________________________________________________\n",
      "add_2 (Add)                     (None, 28, 28, 128)  0           layer2.0.downsample.1[0][0]      \n",
      "                                                                 layer2.0.bn2[0][0]               \n",
      "__________________________________________________________________________________________________\n",
      "activation_5 (Activation)       (None, 28, 28, 128)  0           add_2[0][0]                      \n",
      "__________________________________________________________________________________________________\n",
      "layer2.1.conv1 (Conv2D)         (None, 28, 28, 128)  147456      activation_5[0][0]               \n",
      "__________________________________________________________________________________________________\n",
      "layer2.1.bn1 (BatchNormalizatio (None, 28, 28, 128)  512         layer2.1.conv1[0][0]             \n",
      "__________________________________________________________________________________________________\n",
      "activation_6 (Activation)       (None, 28, 28, 128)  0           layer2.1.bn1[0][0]               \n",
      "__________________________________________________________________________________________________\n",
      "layer2.1.conv2 (Conv2D)         (None, 28, 28, 128)  147456      activation_6[0][0]               \n",
      "__________________________________________________________________________________________________\n",
      "layer2.1.bn2 (BatchNormalizatio (None, 28, 28, 128)  512         layer2.1.conv2[0][0]             \n",
      "__________________________________________________________________________________________________\n",
      "add_3 (Add)                     (None, 28, 28, 128)  0           activation_5[0][0]               \n",
      "                                                                 layer2.1.bn2[0][0]               \n",
      "__________________________________________________________________________________________________\n",
      "activation_7 (Activation)       (None, 28, 28, 128)  0           add_3[0][0]                      \n",
      "__________________________________________________________________________________________________\n",
      "layer3.0.pad (ZeroPadding2D)    (None, 30, 30, 128)  0           activation_7[0][0]               \n",
      "__________________________________________________________________________________________________\n",
      "layer3.0.conv1 (Conv2D)         (None, 14, 14, 256)  294912      layer3.0.pad[0][0]               \n",
      "__________________________________________________________________________________________________\n",
      "layer3.0.bn1 (BatchNormalizatio (None, 14, 14, 256)  1024        layer3.0.conv1[0][0]             \n",
      "__________________________________________________________________________________________________\n",
      "activation_8 (Activation)       (None, 14, 14, 256)  0           layer3.0.bn1[0][0]               \n",
      "__________________________________________________________________________________________________\n",
      "layer3.0.downsample.0 (Conv2D)  (None, 14, 14, 256)  32768       activation_7[0][0]               \n",
      "__________________________________________________________________________________________________\n",
      "layer3.0.conv2 (Conv2D)         (None, 14, 14, 256)  589824      activation_8[0][0]               \n",
      "__________________________________________________________________________________________________\n",
      "layer3.0.downsample.1 (BatchNor (None, 14, 14, 256)  1024        layer3.0.downsample.0[0][0]      \n",
      "__________________________________________________________________________________________________\n",
      "layer3.0.bn2 (BatchNormalizatio (None, 14, 14, 256)  1024        layer3.0.conv2[0][0]             \n",
      "__________________________________________________________________________________________________\n",
      "add_4 (Add)                     (None, 14, 14, 256)  0           layer3.0.downsample.1[0][0]      \n",
      "                                                                 layer3.0.bn2[0][0]               \n",
      "__________________________________________________________________________________________________\n",
      "activation_9 (Activation)       (None, 14, 14, 256)  0           add_4[0][0]                      \n",
      "__________________________________________________________________________________________________\n",
      "layer3.1.conv1 (Conv2D)         (None, 14, 14, 256)  589824      activation_9[0][0]               \n",
      "__________________________________________________________________________________________________\n",
      "layer3.1.bn1 (BatchNormalizatio (None, 14, 14, 256)  1024        layer3.1.conv1[0][0]             \n",
      "__________________________________________________________________________________________________\n",
      "activation_10 (Activation)      (None, 14, 14, 256)  0           layer3.1.bn1[0][0]               \n",
      "__________________________________________________________________________________________________\n",
      "layer3.1.conv2 (Conv2D)         (None, 14, 14, 256)  589824      activation_10[0][0]              \n",
      "__________________________________________________________________________________________________\n",
      "layer3.1.bn2 (BatchNormalizatio (None, 14, 14, 256)  1024        layer3.1.conv2[0][0]             \n",
      "__________________________________________________________________________________________________\n",
      "add_5 (Add)                     (None, 14, 14, 256)  0           activation_9[0][0]               \n",
      "                                                                 layer3.1.bn2[0][0]               \n",
      "__________________________________________________________________________________________________\n",
      "activation_11 (Activation)      (None, 14, 14, 256)  0           add_5[0][0]                      \n",
      "__________________________________________________________________________________________________\n",
      "layer4.0.pad (ZeroPadding2D)    (None, 16, 16, 256)  0           activation_11[0][0]              \n",
      "__________________________________________________________________________________________________\n",
      "layer4.0.conv1 (Conv2D)         (None, 7, 7, 512)    1179648     layer4.0.pad[0][0]               \n",
      "__________________________________________________________________________________________________\n",
      "layer4.0.bn1 (BatchNormalizatio (None, 7, 7, 512)    2048        layer4.0.conv1[0][0]             \n",
      "__________________________________________________________________________________________________\n",
      "activation_12 (Activation)      (None, 7, 7, 512)    0           layer4.0.bn1[0][0]               \n",
      "__________________________________________________________________________________________________\n",
      "layer4.0.downsample.0 (Conv2D)  (None, 7, 7, 512)    131072      activation_11[0][0]              \n",
      "__________________________________________________________________________________________________\n",
      "layer4.0.conv2 (Conv2D)         (None, 7, 7, 512)    2359296     activation_12[0][0]              \n",
      "__________________________________________________________________________________________________\n",
      "layer4.0.downsample.1 (BatchNor (None, 7, 7, 512)    2048        layer4.0.downsample.0[0][0]      \n",
      "__________________________________________________________________________________________________\n",
      "layer4.0.bn2 (BatchNormalizatio (None, 7, 7, 512)    2048        layer4.0.conv2[0][0]             \n",
      "__________________________________________________________________________________________________\n",
      "add_6 (Add)                     (None, 7, 7, 512)    0           layer4.0.downsample.1[0][0]      \n",
      "                                                                 layer4.0.bn2[0][0]               \n",
      "__________________________________________________________________________________________________\n",
      "activation_13 (Activation)      (None, 7, 7, 512)    0           add_6[0][0]                      \n",
      "__________________________________________________________________________________________________\n",
      "layer4.1.conv1 (Conv2D)         (None, 7, 7, 512)    2359296     activation_13[0][0]              \n",
      "__________________________________________________________________________________________________\n",
      "layer4.1.bn1 (BatchNormalizatio (None, 7, 7, 512)    2048        layer4.1.conv1[0][0]             \n",
      "__________________________________________________________________________________________________\n",
      "activation_14 (Activation)      (None, 7, 7, 512)    0           layer4.1.bn1[0][0]               \n",
      "__________________________________________________________________________________________________\n",
      "layer4.1.conv2 (Conv2D)         (None, 7, 7, 512)    2359296     activation_14[0][0]              \n",
      "__________________________________________________________________________________________________\n",
      "layer4.1.bn2 (BatchNormalizatio (None, 7, 7, 512)    2048        layer4.1.conv2[0][0]             \n",
      "__________________________________________________________________________________________________\n",
      "add_7 (Add)                     (None, 7, 7, 512)    0           activation_13[0][0]              \n",
      "                                                                 layer4.1.bn2[0][0]               \n",
      "__________________________________________________________________________________________________\n",
      "activation_15 (Activation)      (None, 7, 7, 512)    0           add_7[0][0]                      \n",
      "==================================================================================================\n",
      "Total params: 11,186,112\n",
      "Trainable params: 8,393,728\n",
      "Non-trainable params: 2,792,384\n",
      "__________________________________________________________________________________________________\n"
     ]
    }
   ],
   "source": [
    "resnet_simclr.layers[1].summary()"
   ]
  },
  {
   "cell_type": "code",
   "execution_count": 155,
   "metadata": {},
   "outputs": [
    {
     "name": "stdout",
     "output_type": "stream",
     "text": [
      "Model: \"functional_1\"\n",
      "_________________________________________________________________\n",
      "Layer (type)                 Output Shape              Param #   \n",
      "=================================================================\n",
      "input_1 (InputLayer)         [(None, 224, 224, 3)]     0         \n",
      "_________________________________________________________________\n",
      "model_1 (Functional)         (None, 7, 7, 512)         11186112  \n",
      "_________________________________________________________________\n",
      "global_average_pooling2d (Gl (None, 512)               0         \n",
      "_________________________________________________________________\n",
      "dense (Dense)                (None, 256)               131328    \n",
      "_________________________________________________________________\n",
      "activation (Activation)      (None, 256)               0         \n",
      "_________________________________________________________________\n",
      "dense_1 (Dense)              (None, 256)               65792     \n",
      "=================================================================\n",
      "Total params: 11,383,232\n",
      "Trainable params: 197,120\n",
      "Non-trainable params: 11,186,112\n",
      "_________________________________________________________________\n"
     ]
    }
   ],
   "source": [
    "resnet_simclr.layers[1].trainable = False\n",
    "resnet_simclr.summary()"
   ]
  },
  {
   "cell_type": "code",
   "execution_count": 156,
   "metadata": {},
   "outputs": [],
   "source": [
    "# Encoder model with non-linear projections\n",
    "projection = Model(resnet_simclr.input, resnet_simclr.layers[-2].output)\n"
   ]
  },
  {
   "cell_type": "code",
   "execution_count": 157,
   "metadata": {},
   "outputs": [],
   "source": [
    "filters = projection.layers[1].layers[2].get_weights()[0]\n",
    "f_min, f_max = filters.min(), filters.max()\n",
    "filters = (filters - f_min) / (f_max - f_min)"
   ]
  },
  {
   "cell_type": "code",
   "execution_count": 158,
   "metadata": {
    "scrolled": true
   },
   "outputs": [
    {
     "data": {
      "text/plain": [
       "array([[[0.44786358, 0.4473378 , 0.45237353],\n",
       "        [0.45016688, 0.43915337, 0.44853982],\n",
       "        [0.45249277, 0.43484026, 0.46486968],\n",
       "        [0.49370635, 0.4732586 , 0.5017252 ],\n",
       "        [0.48390633, 0.47095144, 0.50141406],\n",
       "        [0.46265116, 0.4538219 , 0.47156158],\n",
       "        [0.44664064, 0.43962416, 0.4426577 ]],\n",
       "\n",
       "       [[0.45942476, 0.47803047, 0.46174508],\n",
       "        [0.4585886 , 0.47153363, 0.44343922],\n",
       "        [0.39436066, 0.39726388, 0.38576826],\n",
       "        [0.3026471 , 0.28740293, 0.2945677 ],\n",
       "        [0.30762768, 0.28542668, 0.31720746],\n",
       "        [0.38406527, 0.3671651 , 0.3836758 ],\n",
       "        [0.45547804, 0.45277622, 0.43842414]],\n",
       "\n",
       "       [[0.44973257, 0.45301563, 0.4587595 ],\n",
       "        [0.4852366 , 0.50638396, 0.47983718],\n",
       "        [0.6123398 , 0.6696682 , 0.5701382 ],\n",
       "        [0.76918745, 0.86766326, 0.6847196 ],\n",
       "        [0.73290664, 0.83408076, 0.6409633 ],\n",
       "        [0.5912854 , 0.6517993 , 0.50956285],\n",
       "        [0.4876473 , 0.5204355 , 0.46336594]],\n",
       "\n",
       "       [[0.46986744, 0.45032433, 0.4676746 ],\n",
       "        [0.4174318 , 0.3843119 , 0.43949163],\n",
       "        [0.29301697, 0.22726227, 0.34755138],\n",
       "        [0.21760008, 0.13478552, 0.3093361 ],\n",
       "        [0.30783454, 0.2476171 , 0.39688048],\n",
       "        [0.45313635, 0.43066484, 0.49571496],\n",
       "        [0.48443708, 0.4865694 , 0.518403  ]],\n",
       "\n",
       "       [[0.438661  , 0.42339584, 0.43821943],\n",
       "        [0.4620929 , 0.45065704, 0.46336138],\n",
       "        [0.4924985 , 0.4680264 , 0.5065061 ],\n",
       "        [0.42437664, 0.37196115, 0.48639402],\n",
       "        [0.2745004 , 0.20517673, 0.39034265],\n",
       "        [0.22733209, 0.14655824, 0.31495857],\n",
       "        [0.3148448 , 0.2569331 , 0.37039104]],\n",
       "\n",
       "       [[0.46992552, 0.4711341 , 0.46463144],\n",
       "        [0.47548896, 0.4833469 , 0.4520525 ],\n",
       "        [0.48725867, 0.5070559 , 0.43312848],\n",
       "        [0.58195555, 0.62452626, 0.48435563],\n",
       "        [0.67597795, 0.74723345, 0.58326745],\n",
       "        [0.6650896 , 0.7130356 , 0.5843627 ],\n",
       "        [0.5427516 , 0.5602886 , 0.51688886]],\n",
       "\n",
       "       [[0.44608024, 0.45631826, 0.4538674 ],\n",
       "        [0.4514901 , 0.45706496, 0.4538835 ],\n",
       "        [0.44051626, 0.4441886 , 0.44806203],\n",
       "        [0.41804525, 0.41593298, 0.42381158],\n",
       "        [0.37243825, 0.37376925, 0.37354037],\n",
       "        [0.40925282, 0.4119311 , 0.3902692 ],\n",
       "        [0.45035657, 0.45385394, 0.43284604]]], dtype=float32)"
      ]
     },
     "execution_count": 158,
     "metadata": {},
     "output_type": "execute_result"
    }
   ],
   "source": [
    "filters[:,:,:,0]"
   ]
  },
  {
   "cell_type": "code",
   "execution_count": 159,
   "metadata": {},
   "outputs": [
    {
     "data": {
      "image/png": "[encoded data removed]",
      "text/plain": [
       "<Figure size 432x288 with 64 Axes>"
      ]
     },
     "metadata": {
      "needs_background": "light"
     },
     "output_type": "display_data"
    }
   ],
   "source": [
    "from matplotlib import pyplot as plt\n",
    "figure, axes = plt.subplots(nrows=8, ncols=8)\n",
    "\n",
    "i = 0\n",
    "for x in range(8):\n",
    "    for y in range(8):\n",
    "        axes[x, y].imshow(filters[:, :, :, i])\n",
    "        \n",
    "        axes[x, y].axis('off')\n",
    "        i = i + 1\n",
    "# axes[0, 1].imshow(filters[:, :, :, 1])\n",
    "# axes[1, 0].imshow(filters[:, :, :, 2])\n",
    "# axes[1, 1].imshow(filters[:, :, :, 3])\n",
    "plt.axis('off')\n",
    "plt.show()"
   ]
  },
  {
   "cell_type": "code",
   "execution_count": 160,
   "metadata": {},
   "outputs": [
    {
     "data": {
      "image/png": "[encoded data removed]",
      "text/plain": [
       "<Figure size 432x288 with 24 Axes>"
      ]
     },
     "metadata": {},
     "output_type": "display_data"
    }
   ],
   "source": [
    "from matplotlib import pyplot\n",
    "# plot first few filters\n",
    "n_filters, ix = 8, 1\n",
    "\n",
    "for i in range(n_filters):\n",
    "    # get the filter\n",
    "    f = filters[:, :, :, i]\n",
    "    # plot each channel separately\n",
    "    for j in range(3):\n",
    "        # specify subplot and turn of axis\n",
    "#         plt.figure(figsize=(5,20)) \n",
    "        ax = pyplot.subplot(n_filters, 3, ix)\n",
    "        ax.set_xticks([])\n",
    "        ax.set_yticks([])\n",
    "        # plot filter channel in grayscale\n",
    "        pyplot.imshow(f[:, :, j], cmap='gray')\n",
    "        ix += 1\n",
    "# show the figure\n",
    "pyplot.show()\n"
   ]
  },
  {
   "cell_type": "code",
   "execution_count": 161,
   "metadata": {},
   "outputs": [
    {
     "name": "stdout",
     "output_type": "stream",
     "text": [
      "WARNING:tensorflow:Model was constructed with shape (None, 224, 224, 3) for input Tensor(\"input_1_14:0\", shape=(None, 224, 224, 3), dtype=float32), but it was called on an input with incompatible shape (None, 112, 112, 3).\n",
      "WARNING:tensorflow:Model was constructed with shape (None, 224, 224, 3) for input Tensor(\"input_1_15:0\", shape=(None, 224, 224, 3), dtype=float32), but it was called on an input with incompatible shape (None, 112, 112, 3).\n",
      "(95106, 256)\n",
      "117.0891752243042\n",
      "(30296, 256)\n"
     ]
    }
   ],
   "source": [
    "\n",
    "import time\n",
    "tic = time.time()\n",
    "# Extract train and test features\n",
    "train_features = projection.predict(X_train)\n",
    "print(train_features.shape)\n",
    "test_features = projection.predict(X_test)\n",
    "print(time.time() - tic)\n",
    "\n",
    "print( test_features.shape)"
   ]
  },
  {
   "cell_type": "code",
   "execution_count": 162,
   "metadata": {},
   "outputs": [],
   "source": [
    "# from sklearn.preprocessing import MinMaxScaler\n",
    "# scaler = MinMaxScaler()\n",
    "# train_features1 = scaler.fit_transform(train_features)\n",
    "# test_features1 = scaler.transform(test_features)"
   ]
  },
  {
   "cell_type": "code",
   "execution_count": 163,
   "metadata": {},
   "outputs": [],
   "source": [
    "# Early Stopping to prevent overfitting\n",
    "es = tf.keras.callbacks.EarlyStopping(monitor=\"val_loss\", patience=50, verbose=2, restore_best_weights=True)"
   ]
  },
  {
   "cell_type": "code",
   "execution_count": 164,
   "metadata": {
    "scrolled": true
   },
   "outputs": [
    {
     "name": "stdout",
     "output_type": "stream",
     "text": [
      "Model: \"sequential_4\"\n",
      "_________________________________________________________________\n",
      "Layer (type)                 Output Shape              Param #   \n",
      "=================================================================\n",
      "dense_14 (Dense)             (None, 2)                 514       \n",
      "=================================================================\n",
      "Total params: 514\n",
      "Trainable params: 514\n",
      "Non-trainable params: 0\n",
      "_________________________________________________________________\n"
     ]
    }
   ],
   "source": [
    "linear_model = get_linear_model(256)\n",
    "linear_model.summary()\n",
    "linear_model.compile(loss=\"categorical_crossentropy\", metrics=[\"accuracy\"],\n",
    "                     optimizer=\"adam\")\n"
   ]
  },
  {
   "cell_type": "code",
   "execution_count": 165,
   "metadata": {},
   "outputs": [
    {
     "name": "stdout",
     "output_type": "stream",
     "text": [
      "Epoch 1/30\n",
      "1487/1487 [==============================] - 3s 2ms/step - loss: 0.3152 - accuracy: 0.8726 - val_loss: 0.4074 - val_accuracy: 0.8272\n",
      "Epoch 2/30\n",
      "1487/1487 [==============================] - 3s 2ms/step - loss: 0.2665 - accuracy: 0.8933 - val_loss: 0.4286 - val_accuracy: 0.8212\n",
      "Epoch 3/30\n",
      "1487/1487 [==============================] - 3s 2ms/step - loss: 0.2581 - accuracy: 0.8978 - val_loss: 0.4185 - val_accuracy: 0.8284\n",
      "Epoch 4/30\n",
      "1487/1487 [==============================] - 3s 2ms/step - loss: 0.2549 - accuracy: 0.8993 - val_loss: 0.4310 - val_accuracy: 0.8258\n",
      "Epoch 5/30\n",
      "1487/1487 [==============================] - 3s 2ms/step - loss: 0.2528 - accuracy: 0.9001 - val_loss: 0.4460 - val_accuracy: 0.8179\n",
      "Epoch 6/30\n",
      "1487/1487 [==============================] - 3s 2ms/step - loss: 0.2516 - accuracy: 0.9009 - val_loss: 0.4308 - val_accuracy: 0.8238\n",
      "Epoch 7/30\n",
      "1487/1487 [==============================] - 3s 2ms/step - loss: 0.2508 - accuracy: 0.9017 - val_loss: 0.4499 - val_accuracy: 0.8150\n",
      "Epoch 8/30\n",
      "1487/1487 [==============================] - 3s 2ms/step - loss: 0.2507 - accuracy: 0.9024 - val_loss: 0.4198 - val_accuracy: 0.8284\n",
      "Epoch 9/30\n",
      "1487/1487 [==============================] - 3s 2ms/step - loss: 0.2496 - accuracy: 0.9022 - val_loss: 0.4457 - val_accuracy: 0.8231\n",
      "Epoch 10/30\n",
      "1487/1487 [==============================] - 3s 2ms/step - loss: 0.2496 - accuracy: 0.9016 - val_loss: 0.4270 - val_accuracy: 0.8268\n",
      "Epoch 11/30\n",
      "1487/1487 [==============================] - 3s 2ms/step - loss: 0.2495 - accuracy: 0.9019 - val_loss: 0.4534 - val_accuracy: 0.8191\n",
      "Epoch 12/30\n",
      "1487/1487 [==============================] - 3s 2ms/step - loss: 0.2492 - accuracy: 0.9020 - val_loss: 0.4596 - val_accuracy: 0.8139\n",
      "Epoch 13/30\n",
      "1487/1487 [==============================] - 3s 2ms/step - loss: 0.2489 - accuracy: 0.9026 - val_loss: 0.4259 - val_accuracy: 0.8282\n",
      "Epoch 14/30\n",
      "1487/1487 [==============================] - 3s 2ms/step - loss: 0.2493 - accuracy: 0.9023 - val_loss: 0.4404 - val_accuracy: 0.8202\n",
      "Epoch 15/30\n",
      "1487/1487 [==============================] - 3s 2ms/step - loss: 0.2488 - accuracy: 0.9015 - val_loss: 0.4554 - val_accuracy: 0.8198\n",
      "Epoch 16/30\n",
      "1487/1487 [==============================] - 3s 2ms/step - loss: 0.2485 - accuracy: 0.9023 - val_loss: 0.4270 - val_accuracy: 0.8212\n",
      "Epoch 17/30\n",
      "1487/1487 [==============================] - 3s 2ms/step - loss: 0.2490 - accuracy: 0.9021 - val_loss: 0.4325 - val_accuracy: 0.8222\n",
      "Epoch 18/30\n",
      "1487/1487 [==============================] - 3s 2ms/step - loss: 0.2487 - accuracy: 0.9030 - val_loss: 0.4426 - val_accuracy: 0.8213\n",
      "Epoch 19/30\n",
      "1487/1487 [==============================] - 3s 2ms/step - loss: 0.2487 - accuracy: 0.9024 - val_loss: 0.4314 - val_accuracy: 0.8266\n",
      "Epoch 20/30\n",
      "1487/1487 [==============================] - 3s 2ms/step - loss: 0.2487 - accuracy: 0.9026 - val_loss: 0.4290 - val_accuracy: 0.8251\n",
      "Epoch 21/30\n",
      "1487/1487 [==============================] - 3s 2ms/step - loss: 0.2487 - accuracy: 0.9024 - val_loss: 0.4202 - val_accuracy: 0.8311\n",
      "Epoch 22/30\n",
      "1487/1487 [==============================] - 3s 2ms/step - loss: 0.2484 - accuracy: 0.9028 - val_loss: 0.4670 - val_accuracy: 0.8118\n",
      "Epoch 23/30\n",
      "1487/1487 [==============================] - 3s 2ms/step - loss: 0.2486 - accuracy: 0.9021 - val_loss: 0.4506 - val_accuracy: 0.8214\n",
      "Epoch 24/30\n",
      "1487/1487 [==============================] - 3s 2ms/step - loss: 0.2480 - accuracy: 0.9028 - val_loss: 0.4672 - val_accuracy: 0.8132\n",
      "Epoch 25/30\n",
      "1487/1487 [==============================] - 3s 2ms/step - loss: 0.2478 - accuracy: 0.9030 - val_loss: 0.4591 - val_accuracy: 0.8161\n",
      "Epoch 26/30\n",
      "1487/1487 [==============================] - 3s 2ms/step - loss: 0.2488 - accuracy: 0.9026 - val_loss: 0.4351 - val_accuracy: 0.8256\n",
      "Epoch 27/30\n",
      "1487/1487 [==============================] - 3s 2ms/step - loss: 0.2482 - accuracy: 0.9026 - val_loss: 0.4122 - val_accuracy: 0.8358\n",
      "Epoch 28/30\n",
      "1487/1487 [==============================] - 3s 2ms/step - loss: 0.2486 - accuracy: 0.9021 - val_loss: 0.4297 - val_accuracy: 0.8252\n",
      "Epoch 29/30\n",
      "1487/1487 [==============================] - 3s 2ms/step - loss: 0.2487 - accuracy: 0.9024 - val_loss: 0.4236 - val_accuracy: 0.8334\n",
      "Epoch 30/30\n",
      "1487/1487 [==============================] - 3s 2ms/step - loss: 0.2475 - accuracy: 0.9028 - val_loss: 0.4294 - val_accuracy: 0.8296\n"
     ]
    },
    {
     "data": {
      "image/png": "[encoded data removed]",
      "text/plain": [
       "<Figure size 432x288 with 1 Axes>"
      ]
     },
     "metadata": {},
     "output_type": "display_data"
    }
   ],
   "source": [
    "history = linear_model.fit(train_features, y_train_enc,\n",
    "                 validation_data=(test_features, y_test_enc),\n",
    "                 batch_size=64,\n",
    "                 epochs=30,\n",
    "                 callbacks=[es])\n",
    "plot_training(history)"
   ]
  },
  {
   "cell_type": "code",
   "execution_count": 166,
   "metadata": {},
   "outputs": [
    {
     "name": "stderr",
     "output_type": "stream",
     "text": [
      "/gpfs/users/liashuhamy/.conda/envs/pcamenv/lib/python3.7/site-packages/sklearn/utils/validation.py:63: DataConversionWarning: A column-vector y was passed when a 1d array was expected. Please change the shape of y to (n_samples, ), for example using ravel().\n",
      "  return f(*args, **kwargs)\n"
     ]
    },
    {
     "data": {
      "text/plain": [
       "0.8248943754951149"
      ]
     },
     "execution_count": 166,
     "metadata": {},
     "output_type": "execute_result"
    }
   ],
   "source": [
    "from sklearn.linear_model import LinearRegression, SGDClassifier\n",
    "reg = SGDClassifier().fit(train_features, y_train)\n",
    "reg.score(test_features, y_test)"
   ]
  },
  {
   "cell_type": "code",
   "execution_count": 167,
   "metadata": {},
   "outputs": [
    {
     "name": "stderr",
     "output_type": "stream",
     "text": [
      "/gpfs/users/liashuhamy/.conda/envs/pcamenv/lib/python3.7/site-packages/sklearn/utils/validation.py:63: DataConversionWarning: A column-vector y was passed when a 1d array was expected. Please change the shape of y to (n_samples, ), for example using ravel().\n",
      "  return f(*args, **kwargs)\n",
      "/gpfs/users/liashuhamy/.conda/envs/pcamenv/lib/python3.7/site-packages/sklearn/linear_model/_logistic.py:765: ConvergenceWarning: lbfgs failed to converge (status=1):\n",
      "STOP: TOTAL NO. of ITERATIONS REACHED LIMIT.\n",
      "\n",
      "Increase the number of iterations (max_iter) or scale the data as shown in:\n",
      "    https://scikit-learn.org/stable/modules/preprocessing.html\n",
      "Please also refer to the documentation for alternative solver options:\n",
      "    https://scikit-learn.org/stable/modules/linear_model.html#logistic-regression\n",
      "  extra_warning_msg=_LOGISTIC_SOLVER_CONVERGENCE_MSG)\n"
     ]
    },
    {
     "data": {
      "text/plain": [
       "0.8238711381040401"
      ]
     },
     "execution_count": 167,
     "metadata": {},
     "output_type": "execute_result"
    }
   ],
   "source": [
    "from sklearn.linear_model import LogisticRegression\n",
    "\n",
    "clf = LogisticRegression(random_state=0, max_iter=100).fit(train_features, y_train)\n",
    "clf.score(test_features, y_test)"
   ]
  },
  {
   "cell_type": "raw",
   "metadata": {},
   "source": []
  }
 ],
 "metadata": {
  "kernelspec": {
   "display_name": "Python 3",
   "language": "python",
   "name": "python3"
  },
  "language_info": {
   "codemirror_mode": {
    "name": "ipython",
    "version": 3
   },
   "file_extension": ".py",
   "mimetype": "text/x-python",
   "name": "python",
   "nbconvert_exporter": "python",
   "pygments_lexer": "ipython3",
   "version": "3.7.10"
  }
 },
 "nbformat": 4,
 "nbformat_minor": 4
}
