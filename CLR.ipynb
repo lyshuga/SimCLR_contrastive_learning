{
 "cells": [
  {
   "cell_type": "code",
   "execution_count": 164,
   "metadata": {},
   "outputs": [
    {
     "data": {
      "text/plain": [
       "['/gpfs/workdir/liashuhamy/clr',\n",
       " '/gpfs/users/liashuhamy/.conda/envs/pcamenv/lib/python37.zip',\n",
       " '/gpfs/users/liashuhamy/.conda/envs/pcamenv/lib/python3.7',\n",
       " '/gpfs/users/liashuhamy/.conda/envs/pcamenv/lib/python3.7/lib-dynload',\n",
       " '',\n",
       " '/gpfs/users/liashuhamy/.local/lib/python3.7/site-packages',\n",
       " '/gpfs/users/liashuhamy/.conda/envs/pcamenv/lib/python3.7/site-packages',\n",
       " '/gpfs/users/liashuhamy/.conda/envs/pcamenv/lib/python3.7/site-packages/locket-0.2.1-py3.7.egg',\n",
       " '/gpfs/users/liashuhamy/.conda/envs/pcamenv/lib/python3.7/site-packages/IPython/extensions',\n",
       " '/gpfs/users/liashuhamy/.ipython',\n",
       " '/gpfs/users/liashuhamy/.conda/envs/pcamenv/lib/python3.7/site-packages',\n",
       " '/gpfs/users/liashuhamy/.conda/envs/pcamenv/lib/python3.7/site-packages']"
      ]
     },
     "execution_count": 164,
     "metadata": {},
     "output_type": "execute_result"
    }
   ],
   "source": [
    "import os\n",
    "os.sys.path"
   ]
  },
  {
   "cell_type": "code",
   "execution_count": 165,
   "metadata": {},
   "outputs": [],
   "source": [
    "os.sys.path.append('/gpfs/users/liashuhamy/.conda/envs/pcamenv/lib/python3.7/site-packages')"
   ]
  },
  {
   "cell_type": "code",
   "execution_count": 166,
   "metadata": {},
   "outputs": [],
   "source": [
    "import numpy as np\n",
    "import cv2"
   ]
  },
  {
   "cell_type": "code",
   "execution_count": 167,
   "metadata": {},
   "outputs": [
    {
     "name": "stdout",
     "output_type": "stream",
     "text": [
      "2.3.2\n"
     ]
    }
   ],
   "source": [
    "\n",
    "import tensorflow as tf\n",
    "print(tf.__version__)"
   ]
  },
  {
   "cell_type": "code",
   "execution_count": 168,
   "metadata": {},
   "outputs": [
    {
     "name": "stdout",
     "output_type": "stream",
     "text": [
      "Fri Jul  9 15:15:13 2021       \n",
      "+-----------------------------------------------------------------------------+\n",
      "| NVIDIA-SMI 440.33.01    Driver Version: 440.33.01    CUDA Version: 10.2     |\n",
      "|-------------------------------+----------------------+----------------------+\n",
      "| GPU  Name        Persistence-M| Bus-Id        Disp.A | Volatile Uncorr. ECC |\n",
      "| Fan  Temp  Perf  Pwr:Usage/Cap|         Memory-Usage | GPU-Util  Compute M. |\n",
      "|===============================+======================+======================|\n",
      "|   0  Tesla V100S-PCI...  On   | 00000000:2F:00.0 Off |                    0 |\n",
      "| N/A   36C    P0    38W / 250W |  31039MiB / 32510MiB |      0%      Default |\n",
      "+-------------------------------+----------------------+----------------------+\n",
      "                                                                               \n",
      "+-----------------------------------------------------------------------------+\n",
      "| Processes:                                                       GPU Memory |\n",
      "|  GPU       PID   Type   Process name                             Usage      |\n",
      "|=============================================================================|\n",
      "|    0    116612      C   ...ashuhamy/.conda/envs/pcamenv/bin/python 31027MiB |\n",
      "+-----------------------------------------------------------------------------+\n"
     ]
    }
   ],
   "source": [
    "!nvidia-smi"
   ]
  },
  {
   "cell_type": "code",
   "execution_count": 169,
   "metadata": {},
   "outputs": [],
   "source": [
    "from sklearn.preprocessing import LabelEncoder\n",
    "from sklearn.manifold import TSNE\n",
    "from tensorflow.keras.layers import *\n",
    "from tensorflow.keras.models import *\n",
    "import matplotlib.pyplot as plt\n",
    "# from imutils import paths\n",
    "from tqdm import tqdm\n",
    "import tensorflow as tf\n",
    "# import seaborn as sns\n",
    "import numpy as np\n",
    "# import cv2\n",
    "\n",
    "# Random seed fixation\n",
    "tf.random.set_seed(666)\n",
    "np.random.seed(666)"
   ]
  },
  {
   "cell_type": "code",
   "execution_count": 170,
   "metadata": {},
   "outputs": [],
   "source": [
    "# import h5py\n",
    "\n",
    "# X_train = h5py.File('/gpfs/workdir/liashuhamy/camel/raw/pre_9_patient_split_vahadane/camelyonpatch_level_2_split_train_x.h5', 'r')['x'][:]\n",
    "# y_train = h5py.File('/gpfs/workdir/liashuhamy/camel/raw/pre_9_patient_split_vahadane/camelyonpatch_level_2_split_train_y.h5', 'r')['y'][:].reshape((-1,1))\n",
    "\n",
    "# X_test = h5py.File('/gpfs/workdir/liashuhamy/camel/raw/pre_9_patient_split_vahadane/camelyonpatch_level_2_split_valid_x.h5', 'r')['x'][:]\n",
    "# y_test = h5py.File('/gpfs/workdir/liashuhamy/camel/raw/pre_9_patient_split_vahadane/camelyonpatch_level_2_split_valid_y.h5', 'r')['y'][:].reshape((-1,1))"
   ]
  },
  {
   "cell_type": "code",
   "execution_count": 171,
   "metadata": {},
   "outputs": [],
   "source": [
    "# from PIL import Image\n",
    "# def resize(img, size):\n",
    "#     img = Image.fromarray(img)\n",
    "#     img = img.resize(size)\n",
    "#     return np.array(img)"
   ]
  },
  {
   "cell_type": "code",
   "execution_count": 172,
   "metadata": {},
   "outputs": [],
   "source": [
    "# import cv2\n",
    "# import numpy as np\n",
    "# new_x = []\n",
    "# from tqdm import tqdm\n",
    "# for i in tqdm(range(X_train.shape[0])):\n",
    "#     new_x.append(cv2.resize(X_train[i], (224, 224)))\n",
    "# X_train = np.array(new_x)\n",
    "\n",
    "# new_x = []\n",
    "# from tqdm import tqdm\n",
    "# for i in tqdm(range(X_test.shape[0])):\n",
    "#     new_x.append(cv2.resize(X_test[i], (224, 224)))\n",
    "# X_test = np.array(new_x)\n",
    "\n",
    "# X_train.shape, X_test.shape"
   ]
  },
  {
   "cell_type": "code",
   "execution_count": 173,
   "metadata": {},
   "outputs": [],
   "source": [
    "# X_train = X_train / 255.\n",
    "# X_test = X_test / 255.\n"
   ]
  },
  {
   "cell_type": "code",
   "execution_count": 174,
   "metadata": {},
   "outputs": [],
   "source": [
    "# _, preprocess_input = Classifiers.get('resnet18')"
   ]
  },
  {
   "cell_type": "code",
   "execution_count": 175,
   "metadata": {},
   "outputs": [],
   "source": [
    "# X_train[0][:10,:10, 0]"
   ]
  },
  {
   "cell_type": "code",
   "execution_count": 176,
   "metadata": {},
   "outputs": [],
   "source": [
    "# preprocess_input(X_train[0])[:10,:10, 0]"
   ]
  },
  {
   "cell_type": "markdown",
   "metadata": {},
   "source": [
    "Data load is here"
   ]
  },
  {
   "cell_type": "code",
   "execution_count": 29,
   "metadata": {},
   "outputs": [],
   "source": [
    "import h5py\n",
    "\n",
    "import tensorflow_io as tfio\n",
    "X_train = tfio.IODataset.from_hdf5('/gpfs/workdir/shared/cpm4c/CAMELYON/prepared_datasets/pre_10_vahadane/camelyonpatch_level_2_split_train_x.h5', dataset='/x')\n",
    "y_train = h5py.File('/gpfs/workdir/shared/cpm4c/CAMELYON/prepared_datasets/pre_10_vahadane/camelyonpatch_level_2_split_train_y.h5', 'r')['y'][:].reshape((-1,1))\n",
    "X_test = tfio.IODataset.from_hdf5('/gpfs/workdir/shared/cpm4c/CAMELYON/prepared_datasets/pre_10_vahadane/camelyonpatch_level_2_split_valid_x.h5', dataset='/x')\n",
    "y_test = h5py.File('/gpfs/workdir/shared/cpm4c/CAMELYON/prepared_datasets/pre_10_vahadane/camelyonpatch_level_2_split_valid_y.h5', 'r')['y'][:].reshape((-1,1))"
   ]
  },
  {
   "cell_type": "code",
   "execution_count": 177,
   "metadata": {},
   "outputs": [],
   "source": [
    "import h5py\n",
    "\n",
    "import tensorflow_io as tfio\n",
    "X_train = tfio.IODataset.from_hdf5('/gpfs/workdir/liashuhamy/camel/raw/pre_9_patient_split_vahadane/camelyonpatch_level_2_split_train_x.h5', dataset='/x')\n",
    "y_train = h5py.File('/gpfs/workdir/liashuhamy/camel/raw/pre_9_patient_split_vahadane/camelyonpatch_level_2_split_train_y.h5', 'r')['y'][:].reshape((-1,1))\n",
    "X_test = tfio.IODataset.from_hdf5('/gpfs/workdir/liashuhamy/camel/raw/pre_9_patient_split_vahadane/camelyonpatch_level_2_split_valid_x.h5', dataset='/x')\n",
    "y_test = h5py.File('/gpfs/workdir/liashuhamy/camel/raw/pre_9_patient_split_vahadane/camelyonpatch_level_2_split_valid_y.h5', 'r')['y'][:].reshape((-1,1))"
   ]
  },
  {
   "cell_type": "code",
   "execution_count": 178,
   "metadata": {},
   "outputs": [],
   "source": [
    "X_train = X_train.map(lambda x: tf.image.resize(x, [224,224]))\n",
    "X_train = X_train.map(lambda x: tf.cast(x,tf.float32)/255.)\n",
    "X_train = (\n",
    "    X_train\n",
    "    .batch(33)\n",
    "    .prefetch(tf.data.experimental.AUTOTUNE)\n",
    "    \n",
    ")"
   ]
  },
  {
   "cell_type": "code",
   "execution_count": 179,
   "metadata": {},
   "outputs": [],
   "source": [
    "X_test = X_test.map(lambda x: tf.image.resize(x, [224,224]))\n",
    "X_test = X_test.map(lambda x: tf.cast(x,tf.float32)/255.)\n",
    "X_test = (\n",
    "    X_test\n",
    "    .batch(28)\n",
    "    .prefetch(tf.data.experimental.AUTOTUNE)\n",
    "    \n",
    ")"
   ]
  },
  {
   "cell_type": "code",
   "execution_count": 180,
   "metadata": {},
   "outputs": [],
   "source": [
    "# from sklearn.model_selection import train_test_split\n",
    "# X_train, X_test, y_train, y_test = train_test_split(x, y, test_size=0.33, random_state=42)"
   ]
  },
  {
   "cell_type": "code",
   "execution_count": 181,
   "metadata": {},
   "outputs": [
    {
     "name": "stderr",
     "output_type": "stream",
     "text": [
      "/gpfs/users/liashuhamy/.conda/envs/pcamenv/lib/python3.7/site-packages/sklearn/utils/validation.py:63: DataConversionWarning: A column-vector y was passed when a 1d array was expected. Please change the shape of y to (n_samples, ), for example using ravel().\n",
      "  return f(*args, **kwargs)\n"
     ]
    }
   ],
   "source": [
    "le = LabelEncoder()\n",
    "y_train_enc = le.fit_transform(y_train)\n",
    "y_test_enc = le.transform(y_test)"
   ]
  },
  {
   "cell_type": "code",
   "execution_count": 182,
   "metadata": {},
   "outputs": [],
   "source": [
    "y_train_enc = np.array([[1-i, i] for i in y_train]).reshape((-1,2))\n",
    "y_test_enc = np.array([[1-i, i] for i in y_test]).reshape((-1,2))"
   ]
  },
  {
   "cell_type": "code",
   "execution_count": 183,
   "metadata": {},
   "outputs": [
    {
     "data": {
      "text/plain": [
       "((95106, 2), (30296, 2))"
      ]
     },
     "execution_count": 183,
     "metadata": {},
     "output_type": "execute_result"
    }
   ],
   "source": [
    "y_train_enc.shape, y_test_enc.shape"
   ]
  },
  {
   "cell_type": "code",
   "execution_count": 184,
   "metadata": {},
   "outputs": [
    {
     "data": {
      "text/plain": [
       "(array([[1, 0],\n",
       "        [0, 1],\n",
       "        [0, 1]], dtype=uint8),\n",
       " array([[0],\n",
       "        [1],\n",
       "        [1]], dtype=uint8))"
      ]
     },
     "execution_count": 184,
     "metadata": {},
     "output_type": "execute_result"
    }
   ],
   "source": [
    "y_test_enc[:3], y_test[:3]"
   ]
  },
  {
   "cell_type": "code",
   "execution_count": 185,
   "metadata": {},
   "outputs": [],
   "source": [
    "from classification_models.tfkeras import Classifiers\n",
    "def get_resnet_simclr(hidden_1, hidden_2, hidden_3):\n",
    "    ResNet18, preprocess_input = Classifiers.get('resnet18')\n",
    "    base_model = ResNet18(include_top=False, weights='imagenet', input_shape=(224, 224, 3))\n",
    "    base_model.trainable = True\n",
    "    inputs = Input((224, 224, 3))\n",
    "    h = base_model(inputs, training=False)\n",
    "    h = GlobalAveragePooling2D()(h)\n",
    "\n",
    "    projection_1 = Dense(hidden_1)(h)\n",
    "    projection_1 = Activation(\"relu\")(projection_1)\n",
    "    projection_2 = Dense(hidden_2)(projection_1)\n",
    "#     projection_2 = Activation(\"relu\")(projection_2)\n",
    "#     projection_3 = Dense(hidden_3)(projection_2)\n",
    "\n",
    "    resnet_simclr = Model(inputs, projection_2)\n",
    "\n",
    "    return resnet_simclr"
   ]
  },
  {
   "cell_type": "code",
   "execution_count": 232,
   "metadata": {},
   "outputs": [
    {
     "name": "stdout",
     "output_type": "stream",
     "text": [
      "Model: \"functional_71\"\n",
      "_________________________________________________________________\n",
      "Layer (type)                 Output Shape              Param #   \n",
      "=================================================================\n",
      "input_13 (InputLayer)        [(None, 224, 224, 3)]     0         \n",
      "_________________________________________________________________\n",
      "functional_69 (Functional)   (None, 7, 7, 512)         11186889  \n",
      "_________________________________________________________________\n",
      "global_average_pooling2d_12  (None, 512)               0         \n",
      "_________________________________________________________________\n",
      "dense_31 (Dense)             (None, 256)               131328    \n",
      "_________________________________________________________________\n",
      "activation_12 (Activation)   (None, 256)               0         \n",
      "_________________________________________________________________\n",
      "dense_32 (Dense)             (None, 256)               65792     \n",
      "=================================================================\n",
      "Total params: 11,384,009\n",
      "Trainable params: 11,376,067\n",
      "Non-trainable params: 7,942\n",
      "_________________________________________________________________\n"
     ]
    }
   ],
   "source": [
    "\n",
    "resnet_simclr = get_resnet_simclr(256,256,256)\n",
    "resnet_simclr.load_weights('model_18_layers2_256_sgd_c.h5')\n",
    "\n",
    "# ResNet18, _ = Classifiers.get('resnet18')\n",
    "# base_model = ResNet18(include_top=False, weights='imagenet', input_shape=(224, 224, 3))\n",
    "# base_model.trainable = True\n",
    "# inputs = Input((224, 224, 3))\n",
    "# h = base_model(inputs, training=False)\n",
    "# h = GlobalAveragePooling2D()(h)\n",
    "# resnet_simclr = Model(inputs, h)\n",
    "\n",
    "resnet_simclr.summary()"
   ]
  },
  {
   "cell_type": "code",
   "execution_count": 233,
   "metadata": {},
   "outputs": [],
   "source": [
    "def plot_training(H):\n",
    "\twith plt.xkcd():\n",
    "# \t\tplt.plot(H.history[\"loss\"], label=\"train_loss\")\n",
    "# \t\tplt.plot(H.history[\"val_loss\"], label=\"val_loss\")\n",
    "\t\tplt.plot(H.history[\"accuracy\"], label=\"train_acc\")\n",
    "\t\tplt.plot(H.history[\"val_accuracy\"], label=\"val_acc\")\n",
    "\t\tplt.title(\"Training Accuracy\")\n",
    "\t\tplt.xlabel(\"Epoch #\")\n",
    "\t\tplt.ylabel(\"Accuracy\")\n",
    "\t\tplt.legend(loc=\"lower left\")\n",
    "\t\tplt.show()"
   ]
  },
  {
   "cell_type": "code",
   "execution_count": 234,
   "metadata": {},
   "outputs": [],
   "source": [
    "\n",
    "def get_linear_model(features):\n",
    "    linear_model = Sequential([Dense(2, input_shape=(features, ), activation=\"softmax\")])\n",
    "    return linear_model"
   ]
  },
  {
   "cell_type": "code",
   "execution_count": 235,
   "metadata": {},
   "outputs": [
    {
     "name": "stdout",
     "output_type": "stream",
     "text": [
      "Model: \"functional_71\"\n",
      "_________________________________________________________________\n",
      "Layer (type)                 Output Shape              Param #   \n",
      "=================================================================\n",
      "input_13 (InputLayer)        [(None, 224, 224, 3)]     0         \n",
      "_________________________________________________________________\n",
      "functional_69 (Functional)   (None, 7, 7, 512)         11186889  \n",
      "_________________________________________________________________\n",
      "global_average_pooling2d_12  (None, 512)               0         \n",
      "_________________________________________________________________\n",
      "dense_31 (Dense)             (None, 256)               131328    \n",
      "_________________________________________________________________\n",
      "activation_12 (Activation)   (None, 256)               0         \n",
      "_________________________________________________________________\n",
      "dense_32 (Dense)             (None, 256)               65792     \n",
      "=================================================================\n",
      "Total params: 11,384,009\n",
      "Trainable params: 197,120\n",
      "Non-trainable params: 11,186,889\n",
      "_________________________________________________________________\n"
     ]
    }
   ],
   "source": [
    "resnet_simclr.layers[1].trainable = False\n",
    "resnet_simclr.summary()"
   ]
  },
  {
   "cell_type": "code",
   "execution_count": 236,
   "metadata": {},
   "outputs": [],
   "source": [
    "# Encoder model with non-linear projections\n",
    "projection = Model(resnet_simclr.input, resnet_simclr.layers[-2].output)\n"
   ]
  },
  {
   "cell_type": "code",
   "execution_count": 237,
   "metadata": {},
   "outputs": [],
   "source": [
    "filters = projection.layers[1].layers[3].get_weights()[0]\n",
    "f_min, f_max = filters.min(), filters.max()\n",
    "filters = (filters - f_min) / (f_max - f_min)"
   ]
  },
  {
   "cell_type": "code",
   "execution_count": 238,
   "metadata": {
    "scrolled": true
   },
   "outputs": [
    {
     "data": {
      "text/plain": [
       "array([[[0.5027217 , 0.49775854, 0.5023933 ],\n",
       "        [0.50040925, 0.49197745, 0.49609926],\n",
       "        [0.513745  , 0.5020411 , 0.5015744 ],\n",
       "        [0.51454955, 0.50462604, 0.49632236],\n",
       "        [0.50336325, 0.5021856 , 0.48457167],\n",
       "        [0.48942065, 0.48746037, 0.48284265],\n",
       "        [0.5036308 , 0.5017442 , 0.5019774 ]],\n",
       "\n",
       "       [[0.499196  , 0.5178191 , 0.51577383],\n",
       "        [0.49320352, 0.5207657 , 0.516273  ],\n",
       "        [0.4974689 , 0.51946807, 0.5105864 ],\n",
       "        [0.49707744, 0.50715744, 0.5002879 ],\n",
       "        [0.51857394, 0.52085626, 0.5044033 ],\n",
       "        [0.5190216 , 0.5192907 , 0.48638603],\n",
       "        [0.5246907 , 0.5257553 , 0.5033926 ]],\n",
       "\n",
       "       [[0.4989806 , 0.53944576, 0.5284663 ],\n",
       "        [0.46646976, 0.50471956, 0.51665056],\n",
       "        [0.43883753, 0.47688344, 0.4899135 ],\n",
       "        [0.4111037 , 0.44079185, 0.44673672],\n",
       "        [0.41937706, 0.42091414, 0.4406497 ],\n",
       "        [0.46566725, 0.46113232, 0.47160575],\n",
       "        [0.52304107, 0.5364611 , 0.52560776]],\n",
       "\n",
       "       [[0.51097196, 0.5429592 , 0.53554755],\n",
       "        [0.47619694, 0.52295315, 0.52612084],\n",
       "        [0.4119443 , 0.46455866, 0.45841762],\n",
       "        [0.32526246, 0.37602404, 0.39416584],\n",
       "        [0.2823215 , 0.31067255, 0.3452108 ],\n",
       "        [0.32812557, 0.3822937 , 0.3951057 ],\n",
       "        [0.40640137, 0.48345533, 0.4836306 ]],\n",
       "\n",
       "       [[0.5661936 , 0.5586159 , 0.554412  ],\n",
       "        [0.56264544, 0.5338793 , 0.5414769 ],\n",
       "        [0.54814625, 0.54165846, 0.53303874],\n",
       "        [0.46048796, 0.4757791 , 0.47528177],\n",
       "        [0.3791452 , 0.4211302 , 0.43650413],\n",
       "        [0.38947007, 0.44407272, 0.45293406],\n",
       "        [0.414985  , 0.48014414, 0.48644927]],\n",
       "\n",
       "       [[0.5596484 , 0.5297174 , 0.5456704 ],\n",
       "        [0.57855684, 0.534201  , 0.55596685],\n",
       "        [0.5901672 , 0.5530172 , 0.56471103],\n",
       "        [0.5958687 , 0.57510626, 0.5771894 ],\n",
       "        [0.5481543 , 0.53714913, 0.53384376],\n",
       "        [0.5128506 , 0.5244549 , 0.52103096],\n",
       "        [0.48665118, 0.5185527 , 0.52012   ]],\n",
       "\n",
       "       [[0.5182369 , 0.5064733 , 0.52249396],\n",
       "        [0.53593904, 0.50465626, 0.5335754 ],\n",
       "        [0.5416909 , 0.50566   , 0.5238446 ],\n",
       "        [0.5726972 , 0.5212019 , 0.53010315],\n",
       "        [0.5975381 , 0.54734653, 0.545372  ],\n",
       "        [0.5788512 , 0.54069877, 0.5227219 ],\n",
       "        [0.5429891 , 0.51913613, 0.50751805]]], dtype=float32)"
      ]
     },
     "execution_count": 238,
     "metadata": {},
     "output_type": "execute_result"
    }
   ],
   "source": [
    "filters[:,:,:,0]"
   ]
  },
  {
   "cell_type": "code",
   "execution_count": 239,
   "metadata": {},
   "outputs": [
    {
     "data": {
      "image/png": "[encoded data removed]",
      "text/plain": [
       "<Figure size 432x288 with 64 Axes>"
      ]
     },
     "metadata": {
      "needs_background": "light"
     },
     "output_type": "display_data"
    }
   ],
   "source": [
    "from matplotlib import pyplot as plt\n",
    "figure, axes = plt.subplots(nrows=8, ncols=8)\n",
    "\n",
    "i = 0\n",
    "for x in range(8):\n",
    "    for y in range(8):\n",
    "        axes[x, y].imshow(filters[:, :, :, i])\n",
    "        \n",
    "        axes[x, y].axis('off')\n",
    "        i = i + 1\n",
    "# axes[0, 1].imshow(filters[:, :, :, 1])\n",
    "# axes[1, 0].imshow(filters[:, :, :, 2])\n",
    "# axes[1, 1].imshow(filters[:, :, :, 3])\n",
    "plt.axis('off')\n",
    "plt.show()"
   ]
  },
  {
   "cell_type": "code",
   "execution_count": 223,
   "metadata": {},
   "outputs": [
    {
     "data": {
      "image/png": "[encoded data removed]",
      "text/plain": [
       "<Figure size 432x288 with 64 Axes>"
      ]
     },
     "metadata": {
      "needs_background": "light"
     },
     "output_type": "display_data"
    }
   ],
   "source": [
    "from matplotlib import pyplot as plt\n",
    "figure, axes = plt.subplots(nrows=8, ncols=8)\n",
    "\n",
    "i = 0\n",
    "for x in range(8):\n",
    "    for y in range(8):\n",
    "        axes[x, y].imshow(filters[:, :, :, i])\n",
    "        \n",
    "        axes[x, y].axis('off')\n",
    "        i = i + 1\n",
    "# axes[0, 1].imshow(filters[:, :, :, 1])\n",
    "# axes[1, 0].imshow(filters[:, :, :, 2])\n",
    "# axes[1, 1].imshow(filters[:, :, :, 3])\n",
    "plt.axis('off')\n",
    "plt.show()"
   ]
  },
  {
   "cell_type": "code",
   "execution_count": 224,
   "metadata": {},
   "outputs": [
    {
     "data": {
      "image/png": "[encoded data removed]",
      "text/plain": [
       "<Figure size 432x288 with 24 Axes>"
      ]
     },
     "metadata": {},
     "output_type": "display_data"
    }
   ],
   "source": [
    "from matplotlib import pyplot\n",
    "# plot first few filters\n",
    "n_filters, ix = 8, 1\n",
    "\n",
    "for i in range(n_filters):\n",
    "    # get the filter\n",
    "    f = filters[:, :, :, i]\n",
    "    # plot each channel separately\n",
    "    for j in range(3):\n",
    "        # specify subplot and turn of axis\n",
    "#         plt.figure(figsize=(5,20)) \n",
    "        ax = pyplot.subplot(n_filters, 3, ix)\n",
    "        ax.set_xticks([])\n",
    "        ax.set_yticks([])\n",
    "        # plot filter channel in grayscale\n",
    "        pyplot.imshow(f[:, :, j], cmap='gray')\n",
    "        ix += 1\n",
    "# show the figure\n",
    "pyplot.show()\n"
   ]
  },
  {
   "cell_type": "code",
   "execution_count": 210,
   "metadata": {},
   "outputs": [
    {
     "name": "stdout",
     "output_type": "stream",
     "text": [
      "(95106, 256)\n",
      "202.3469421863556\n",
      "(30296, 256)\n"
     ]
    }
   ],
   "source": [
    "\n",
    "import time\n",
    "tic = time.time()\n",
    "# Extract train and test features\n",
    "train_features = projection.predict(X_train)\n",
    "print(train_features.shape)\n",
    "test_features = projection.predict(X_test)\n",
    "print(time.time() - tic)\n",
    "\n",
    "print( test_features.shape)"
   ]
  },
  {
   "cell_type": "code",
   "execution_count": 211,
   "metadata": {},
   "outputs": [
    {
     "data": {
      "text/plain": [
       "<PrefetchDataset shapes: (None, 224, 224, 3), types: tf.float32>"
      ]
     },
     "execution_count": 211,
     "metadata": {},
     "output_type": "execute_result"
    }
   ],
   "source": [
    "X_train"
   ]
  },
  {
   "cell_type": "code",
   "execution_count": 212,
   "metadata": {},
   "outputs": [],
   "source": [
    "# from sklearn.preprocessing import MinMaxScaler\n",
    "# scaler = MinMaxScaler()\n",
    "# train_features1 = scaler.fit_transform(train_features)\n",
    "# test_features1 = scaler.transform(test_features)"
   ]
  },
  {
   "cell_type": "code",
   "execution_count": 213,
   "metadata": {},
   "outputs": [],
   "source": [
    "# Early Stopping to prevent overfitting\n",
    "es = tf.keras.callbacks.EarlyStopping(monitor=\"val_loss\", patience=50, verbose=2, restore_best_weights=True)"
   ]
  },
  {
   "cell_type": "code",
   "execution_count": 214,
   "metadata": {
    "scrolled": true
   },
   "outputs": [
    {
     "name": "stdout",
     "output_type": "stream",
     "text": [
      "Model: \"sequential_6\"\n",
      "_________________________________________________________________\n",
      "Layer (type)                 Output Shape              Param #   \n",
      "=================================================================\n",
      "dense_26 (Dense)             (None, 2)                 514       \n",
      "=================================================================\n",
      "Total params: 514\n",
      "Trainable params: 514\n",
      "Non-trainable params: 0\n",
      "_________________________________________________________________\n"
     ]
    }
   ],
   "source": [
    "linear_model = get_linear_model(256)\n",
    "linear_model.summary()\n",
    "linear_model.compile(loss=\"categorical_crossentropy\", metrics=[\"accuracy\"],\n",
    "                     optimizer=\"adam\")\n"
   ]
  },
  {
   "cell_type": "code",
   "execution_count": 215,
   "metadata": {},
   "outputs": [
    {
     "name": "stdout",
     "output_type": "stream",
     "text": [
      "Epoch 1/30\n",
      "1487/1487 [==============================] - 4s 3ms/step - loss: 0.4027 - accuracy: 0.8345 - val_loss: 0.4189 - val_accuracy: 0.8240\n",
      "Epoch 2/30\n",
      "1487/1487 [==============================] - 4s 3ms/step - loss: 0.3732 - accuracy: 0.8453 - val_loss: 0.4238 - val_accuracy: 0.8255\n",
      "Epoch 3/30\n",
      "1487/1487 [==============================] - 4s 3ms/step - loss: 0.3715 - accuracy: 0.8462 - val_loss: 0.4230 - val_accuracy: 0.8234\n",
      "Epoch 4/30\n",
      "1487/1487 [==============================] - 4s 3ms/step - loss: 0.3715 - accuracy: 0.8460 - val_loss: 0.4239 - val_accuracy: 0.8258\n",
      "Epoch 5/30\n",
      "1487/1487 [==============================] - 4s 3ms/step - loss: 0.3711 - accuracy: 0.8453 - val_loss: 0.4224 - val_accuracy: 0.8261\n",
      "Epoch 6/30\n",
      "1487/1487 [==============================] - 4s 3ms/step - loss: 0.3702 - accuracy: 0.8468 - val_loss: 0.4219 - val_accuracy: 0.8255\n",
      "Epoch 7/30\n",
      "1487/1487 [==============================] - 4s 3ms/step - loss: 0.3704 - accuracy: 0.8461 - val_loss: 0.4209 - val_accuracy: 0.8251\n",
      "Epoch 8/30\n",
      "1487/1487 [==============================] - 4s 3ms/step - loss: 0.3704 - accuracy: 0.8462 - val_loss: 0.4129 - val_accuracy: 0.8243\n",
      "Epoch 9/30\n",
      "1487/1487 [==============================] - 4s 3ms/step - loss: 0.3701 - accuracy: 0.8468 - val_loss: 0.4226 - val_accuracy: 0.8275\n",
      "Epoch 10/30\n",
      "1487/1487 [==============================] - 4s 3ms/step - loss: 0.3704 - accuracy: 0.8464 - val_loss: 0.4209 - val_accuracy: 0.8256\n",
      "Epoch 11/30\n",
      "1487/1487 [==============================] - 4s 3ms/step - loss: 0.3705 - accuracy: 0.8469 - val_loss: 0.4216 - val_accuracy: 0.8256\n",
      "Epoch 12/30\n",
      "1487/1487 [==============================] - 4s 3ms/step - loss: 0.3703 - accuracy: 0.8468 - val_loss: 0.4218 - val_accuracy: 0.8256\n",
      "Epoch 13/30\n",
      "1487/1487 [==============================] - 4s 3ms/step - loss: 0.3700 - accuracy: 0.8464 - val_loss: 0.4186 - val_accuracy: 0.8255\n",
      "Epoch 14/30\n",
      "1487/1487 [==============================] - 4s 3ms/step - loss: 0.3706 - accuracy: 0.8461 - val_loss: 0.4224 - val_accuracy: 0.8264\n",
      "Epoch 15/30\n",
      "1487/1487 [==============================] - 4s 3ms/step - loss: 0.3704 - accuracy: 0.8461 - val_loss: 0.4173 - val_accuracy: 0.8254\n",
      "Epoch 16/30\n",
      "1487/1487 [==============================] - 4s 3ms/step - loss: 0.3696 - accuracy: 0.8470 - val_loss: 0.4111 - val_accuracy: 0.8252\n",
      "Epoch 17/30\n",
      "1487/1487 [==============================] - 4s 3ms/step - loss: 0.3705 - accuracy: 0.8466 - val_loss: 0.4135 - val_accuracy: 0.8257\n",
      "Epoch 18/30\n",
      "1487/1487 [==============================] - 4s 3ms/step - loss: 0.3699 - accuracy: 0.8471 - val_loss: 0.4199 - val_accuracy: 0.8253\n",
      "Epoch 19/30\n",
      "1487/1487 [==============================] - 4s 3ms/step - loss: 0.3699 - accuracy: 0.8470 - val_loss: 0.4129 - val_accuracy: 0.8269\n",
      "Epoch 20/30\n",
      "1487/1487 [==============================] - 4s 3ms/step - loss: 0.3700 - accuracy: 0.8466 - val_loss: 0.4160 - val_accuracy: 0.8249\n",
      "Epoch 21/30\n",
      "1487/1487 [==============================] - 4s 3ms/step - loss: 0.3699 - accuracy: 0.8466 - val_loss: 0.4122 - val_accuracy: 0.8264\n",
      "Epoch 22/30\n",
      "1487/1487 [==============================] - 4s 3ms/step - loss: 0.3697 - accuracy: 0.8471 - val_loss: 0.4191 - val_accuracy: 0.8249\n",
      "Epoch 23/30\n",
      "1487/1487 [==============================] - 4s 3ms/step - loss: 0.3702 - accuracy: 0.8467 - val_loss: 0.4204 - val_accuracy: 0.8270\n",
      "Epoch 24/30\n",
      "1487/1487 [==============================] - 4s 3ms/step - loss: 0.3700 - accuracy: 0.8469 - val_loss: 0.4284 - val_accuracy: 0.8271\n",
      "Epoch 25/30\n",
      "1487/1487 [==============================] - 4s 3ms/step - loss: 0.3699 - accuracy: 0.8470 - val_loss: 0.4187 - val_accuracy: 0.8266\n",
      "Epoch 26/30\n",
      "1487/1487 [==============================] - 4s 3ms/step - loss: 0.3705 - accuracy: 0.8461 - val_loss: 0.4157 - val_accuracy: 0.8251\n",
      "Epoch 27/30\n",
      "1487/1487 [==============================] - 4s 3ms/step - loss: 0.3700 - accuracy: 0.8467 - val_loss: 0.4136 - val_accuracy: 0.8268\n",
      "Epoch 28/30\n",
      "1487/1487 [==============================] - 4s 3ms/step - loss: 0.3699 - accuracy: 0.8471 - val_loss: 0.4195 - val_accuracy: 0.8255\n",
      "Epoch 29/30\n",
      "1487/1487 [==============================] - 4s 3ms/step - loss: 0.3700 - accuracy: 0.8473 - val_loss: 0.4215 - val_accuracy: 0.8256\n",
      "Epoch 30/30\n",
      "1487/1487 [==============================] - 4s 3ms/step - loss: 0.3698 - accuracy: 0.8465 - val_loss: 0.4206 - val_accuracy: 0.8259\n"
     ]
    },
    {
     "data": {
      "image/png": "[encoded data removed]",
      "text/plain": [
       "<Figure size 432x288 with 1 Axes>"
      ]
     },
     "metadata": {},
     "output_type": "display_data"
    }
   ],
   "source": [
    "history = linear_model.fit(train_features, y_train_enc,\n",
    "                 validation_data=(test_features, y_test_enc),\n",
    "                 batch_size=64,\n",
    "                 epochs=30,\n",
    "                 callbacks=[es])\n",
    "plot_training(history)"
   ]
  },
  {
   "cell_type": "code",
   "execution_count": 40,
   "metadata": {},
   "outputs": [
    {
     "data": {
      "text/plain": [
       "array([[1, 0],\n",
       "       [0, 1],\n",
       "       [1, 0],\n",
       "       ...,\n",
       "       [1, 0],\n",
       "       [1, 0],\n",
       "       [1, 0]], dtype=uint8)"
      ]
     },
     "execution_count": 40,
     "metadata": {},
     "output_type": "execute_result"
    }
   ],
   "source": [
    "y_train_enc"
   ]
  },
  {
   "cell_type": "code",
   "execution_count": 95,
   "metadata": {},
   "outputs": [
    {
     "name": "stderr",
     "output_type": "stream",
     "text": [
      "/gpfs/users/liashuhamy/.conda/envs/pcamenv/lib/python3.7/site-packages/sklearn/utils/validation.py:63: DataConversionWarning: A column-vector y was passed when a 1d array was expected. Please change the shape of y to (n_samples, ), for example using ravel().\n",
      "  return f(*args, **kwargs)\n"
     ]
    },
    {
     "data": {
      "text/plain": [
       "0.8028782677581199"
      ]
     },
     "execution_count": 95,
     "metadata": {},
     "output_type": "execute_result"
    }
   ],
   "source": [
    "from sklearn.linear_model import LinearRegression, SGDClassifier\n",
    "reg = SGDClassifier().fit(train_features, y_train)\n",
    "reg.score(test_features, y_test)"
   ]
  },
  {
   "cell_type": "code",
   "execution_count": 60,
   "metadata": {},
   "outputs": [
    {
     "ename": "AttributeError",
     "evalue": "'PrefetchDataset' object has no attribute 'shape'",
     "output_type": "error",
     "traceback": [
      "\u001b[0;31m---------------------------------------------------------------------------\u001b[0m",
      "\u001b[0;31mAttributeError\u001b[0m                            Traceback (most recent call last)",
      "\u001b[0;32m<ipython-input-60-d2ba684acd0f>\u001b[0m in \u001b[0;36m<module>\u001b[0;34m\u001b[0m\n\u001b[0;32m----> 1\u001b[0;31m \u001b[0mX_train\u001b[0m\u001b[0;34m.\u001b[0m\u001b[0mshape\u001b[0m\u001b[0;34m\u001b[0m\u001b[0;34m\u001b[0m\u001b[0m\n\u001b[0m",
      "\u001b[0;31mAttributeError\u001b[0m: 'PrefetchDataset' object has no attribute 'shape'"
     ]
    }
   ],
   "source": [
    "X_train.shape"
   ]
  },
  {
   "cell_type": "code",
   "execution_count": 61,
   "metadata": {},
   "outputs": [
    {
     "data": {
      "text/plain": [
       "(95106, 512)"
      ]
     },
     "execution_count": 61,
     "metadata": {},
     "output_type": "execute_result"
    }
   ],
   "source": [
    "train_features.shape"
   ]
  },
  {
   "cell_type": "code",
   "execution_count": 96,
   "metadata": {},
   "outputs": [
    {
     "name": "stderr",
     "output_type": "stream",
     "text": [
      "/gpfs/users/liashuhamy/.conda/envs/pcamenv/lib/python3.7/site-packages/sklearn/utils/validation.py:63: DataConversionWarning: A column-vector y was passed when a 1d array was expected. Please change the shape of y to (n_samples, ), for example using ravel().\n",
      "  return f(*args, **kwargs)\n",
      "/gpfs/users/liashuhamy/.conda/envs/pcamenv/lib/python3.7/site-packages/sklearn/linear_model/_logistic.py:765: ConvergenceWarning: lbfgs failed to converge (status=1):\n",
      "STOP: TOTAL NO. of ITERATIONS REACHED LIMIT.\n",
      "\n",
      "Increase the number of iterations (max_iter) or scale the data as shown in:\n",
      "    https://scikit-learn.org/stable/modules/preprocessing.html\n",
      "Please also refer to the documentation for alternative solver options:\n",
      "    https://scikit-learn.org/stable/modules/linear_model.html#logistic-regression\n",
      "  extra_warning_msg=_LOGISTIC_SOLVER_CONVERGENCE_MSG)\n"
     ]
    },
    {
     "data": {
      "text/plain": [
       "0.8101069448111962"
      ]
     },
     "execution_count": 96,
     "metadata": {},
     "output_type": "execute_result"
    }
   ],
   "source": [
    "from sklearn.linear_model import LogisticRegression\n",
    "\n",
    "clf = LogisticRegression(random_state=0, max_iter=100).fit(train_features, y_train)\n",
    "clf.score(test_features, y_test)"
   ]
  },
  {
   "cell_type": "code",
   "execution_count": 76,
   "metadata": {},
   "outputs": [
    {
     "data": {
      "text/plain": [
       "0.8175666754687088"
      ]
     },
     "execution_count": 76,
     "metadata": {},
     "output_type": "execute_result"
    }
   ],
   "source": [
    "clf.score(test_features, y_test)"
   ]
  },
  {
   "cell_type": "code",
   "execution_count": null,
   "metadata": {},
   "outputs": [],
   "source": []
  }
 ],
 "metadata": {
  "kernelspec": {
   "display_name": "Python 3",
   "language": "python",
   "name": "python3"
  },
  "language_info": {
   "codemirror_mode": {
    "name": "ipython",
    "version": 3
   },
   "file_extension": ".py",
   "mimetype": "text/x-python",
   "name": "python",
   "nbconvert_exporter": "python",
   "pygments_lexer": "ipython3",
   "version": "3.7.10"
  }
 },
 "nbformat": 4,
 "nbformat_minor": 4
}
